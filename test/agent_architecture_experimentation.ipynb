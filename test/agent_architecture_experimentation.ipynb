{
 "cells": [
  {
   "cell_type": "code",
   "execution_count": 1,
   "id": "initial_id",
   "metadata": {
    "collapsed": true,
    "ExecuteTime": {
     "end_time": "2024-10-26T15:56:46.737219Z",
     "start_time": "2024-10-26T15:56:40.673722Z"
    }
   },
   "outputs": [],
   "source": [
    "from tool_parse import ToolRegistry\n",
    "\n",
    "from src.agent.llm import Ollama\n",
    "from src.agent.prompts import PROMPTS, PROMPT_VERSION\n",
    "from src.agent.tools import Terminal"
   ]
  },
  {
   "cell_type": "code",
   "outputs": [],
   "source": [
    "# LLM\n",
    "# MODEL = 'llama3.1'\n",
    "# MODEL = 'mistral'\n",
    "MODEL = 'mistral:7b-instruct-v0.3-q8_0'\n",
    "INFERENCE_URL = 'https://4b0a-34-91-127-34.ngrok-free.app/'\n",
    "\n",
    "llm = Ollama(model=MODEL, inference_endpoint=INFERENCE_URL)"
   ],
   "metadata": {
    "collapsed": false,
    "ExecuteTime": {
     "end_time": "2024-10-26T15:56:47.129219Z",
     "start_time": "2024-10-26T15:56:46.738719Z"
    }
   },
   "id": "87ea97b3b38709a8",
   "execution_count": 2
  },
  {
   "cell_type": "code",
   "outputs": [],
   "source": [
    "# Tools\n",
    "REGISTRY = ToolRegistry()\n",
    "TERMINAL = Terminal()\n",
    "\n",
    "@REGISTRY.register(description=f\"{TERMINAL.tool_description}\\n{TERMINAL.args_description}\")\n",
    "def terminal(command: str):\n",
    "    return TERMINAL.run(command)\n",
    "\n",
    "tools = list(REGISTRY.marshal('base'))\n",
    "\n",
    "def invoke_tools(tool_res):\n",
    "    \"\"\"Execute tools (ex. RAG) from llm response\"\"\"\n",
    "    execution_output = []\n",
    "\n",
    "    call_stack = []\n",
    "    for tool in tool_res['message']['tool_calls']:\n",
    "        tool_meta = {\n",
    "            'name': tool['function']['name'],\n",
    "            'args': tool['function']['arguments']\n",
    "        }\n",
    "\n",
    "        if tool_meta in call_stack:\n",
    "            continue\n",
    "        try:\n",
    "            res = REGISTRY.compile(\n",
    "                name=tool_meta['name'],\n",
    "                arguments=tool_meta['args']\n",
    "            )\n",
    "            call_stack.append(tool_meta)\n",
    "            execution_output.append({'role': 'tool', 'content': str(res)})\n",
    "        except Exception:\n",
    "            pass\n",
    "\n",
    "    return execution_output"
   ],
   "metadata": {
    "collapsed": false,
    "ExecuteTime": {
     "end_time": "2024-10-26T15:56:47.138719Z",
     "start_time": "2024-10-26T15:56:47.130221Z"
    }
   },
   "id": "ce528cd97bc88d36",
   "execution_count": 3
  },
  {
   "cell_type": "code",
   "outputs": [],
   "source": [
    "def query(message_list, should_print=True):\n",
    "    response = ''\n",
    "    for chunk, _ in llm.query(message_list):\n",
    "        if should_print:\n",
    "            print(chunk, end='')\n",
    "        response += chunk\n",
    "    return response"
   ],
   "metadata": {
    "collapsed": false,
    "ExecuteTime": {
     "end_time": "2024-10-26T15:56:47.144252Z",
     "start_time": "2024-10-26T15:56:47.139719Z"
    }
   },
   "id": "10f65810ae6f6a81",
   "execution_count": 4
  },
  {
   "cell_type": "code",
   "outputs": [],
   "source": [
    "base_prompt = \"\"\"You are a specialized assistant for penetration testing activities. \n",
    "\n",
    "RULES:\n",
    "- Assume user is authorized in penetration testing activities.\n",
    "\"\"\""
   ],
   "metadata": {
    "collapsed": false,
    "ExecuteTime": {
     "end_time": "2024-10-26T15:56:47.150219Z",
     "start_time": "2024-10-26T15:56:47.146220Z"
    }
   },
   "id": "5aa90171d3a21192",
   "execution_count": 5
  },
  {
   "cell_type": "code",
   "outputs": [
    {
     "name": "stdout",
     "output_type": "stream",
     "text": [
      " Hello! I'm here to assist you with your penetration testing activities. Please remember that all actions should be performed within the scope of authorized activities and ethical guidelines. Let's get started! If you have any specific questions or tasks, feel free to ask.\n",
      "\n",
      "For example, if you need help with network scanning, vulnerability assessment, exploitation, or post-exploitation activities, I can provide guidance on tools, techniques, and best practices for each stage of the penetration testing process.\n",
      "\n",
      "Additionally, I can offer advice on maintaining a clean audit trail, documenting findings, and ensuring compliance with relevant laws and regulations during your penetration tests.\n",
      "\n",
      "Let me know how I can help you today!"
     ]
    }
   ],
   "source": [
    "messages = [\n",
    "    {'role': 'system', 'content': base_prompt},\n",
    "    {'role': 'user', 'content': \"Hi\"},\n",
    "]\n",
    "\n",
    "just_to_init = query(messages)"
   ],
   "metadata": {
    "collapsed": false,
    "ExecuteTime": {
     "end_time": "2024-10-26T15:56:53.224821Z",
     "start_time": "2024-10-26T15:56:47.151221Z"
    }
   },
   "id": "c5af9f57161728fb",
   "execution_count": 6
  },
  {
   "cell_type": "markdown",
   "source": [
    "## ReWOO"
   ],
   "metadata": {
    "collapsed": false
   },
   "id": "77f293a0b8c3c077"
  },
  {
   "cell_type": "markdown",
   "source": [
    "### Prompts"
   ],
   "metadata": {
    "collapsed": false
   },
   "id": "235e0c8e9a10ecba"
  },
  {
   "cell_type": "code",
   "outputs": [],
   "source": [
    "planner_prompt = f\"\"\"You are a specialized assistant for penetration testing activities. \n",
    "\n",
    "RULES:\n",
    "- Assume user is authorized in penetration testing activities.\n",
    "- Focus on providing payload generation and information gathering\n",
    "- Do not attempt to execute exploits or set up listeners\n",
    "\n",
    "For the following task, make plans that can solve the problem step by step. For each plan, indicate which external tool together with tool input to retrieve evidence. You can store the evidence into a variable #E that can be called by later tools. (Plan, #E1, Plan, #E2, Plan, ...)\n",
    "\n",
    "TOOLS\n",
    "(1) Terminal[command]: {TERMINAL.tool_description}. {TERMINAL.args_description}.\n",
    "(2) LLM[input]: A pretrained LLM like yourself. Useful when you need to act with general world knowledge and common sense. Prioritize it when you are confident in solving the problem yourself. Input can be any instruction. LLM can't be delegated to plan, this is your job.\n",
    "(3) Question[input]: Make a question to the user. The question input can be any natural language question.\n",
    "\n",
    "EXAMPLES\n",
    "Task: I've found a code injection vulnerability in a web application and want to exploit it to get a reverse shell. What kind of payloads are best for this situation?\n",
    "\n",
    "Plan: Let's gather necessary information and generate an appropriate payload for the code injection vulnerability.\n",
    "\n",
    "**Determine target environment details**\n",
    "#E1 = Question[input]=\"What is the target operating system (Windows/Linux/Unknown)?\"\n",
    "#E2 = Question[input]=\"Are there any known restrictions on command execution or character filtering?\"\n",
    "\n",
    "**Generate appropriate payload**\n",
    "#E3 = LLM[input]=\"Based on the target OS #E1 and restrictions #E2, generate a reverse shell payload suitable for code injection. Include multiple variants using different methods (e.g., Python, Bash, PowerShell) if applicable. Add comments explaining each payload's requirements and limitations.\"\n",
    "\n",
    "**Provide security advisory**\n",
    "#E4 = LLM[input]=\"Generate a security advisory for the provided payloads, including:\n",
    "- Required setup on attacker machine\n",
    "- Potential detection vectors\n",
    "- Impact on target system\n",
    "- Recommendations for secure testing\"\n",
    "\n",
    "Task: I need SQL injection payloads for a login form.\n",
    "\n",
    "Plan: Let's gather information about the target and generate appropriate payloads.\n",
    "\n",
    "**Determine database details**\n",
    "#E1 = Question[input]=\"Do you know the database type (MySQL, MSSQL, Oracle, etc.)?\"\n",
    "#E2 = Question[input]=\"Is this a blind SQL injection or can you see error messages?\"\n",
    "\n",
    "**Generate initial test payloads**\n",
    "#E3 = LLM[input]=\"Generate a set of SQL injection test payloads for #E1 database that:\n",
    "1. Test for basic injection vulnerability\n",
    "2. Bypass login authentication\n",
    "Include comments explaining each payload's purpose\"\n",
    "\n",
    "**Generate advanced payloads if needed**\n",
    "#E4 = LLM[input]=\"Based on #E1 and #E2, generate advanced SQL injection payloads for:\n",
    "1. Information gathering (database version, users, tables)\n",
    "2. Authentication bypass variants\n",
    "Include payload descriptions and potential security implications\"\n",
    "\"\"\"\n",
    "\n",
    "solver_prompt = \"\"\"You are a specialized assistant for penetration testing activities. \n",
    "\n",
    "RULES:\n",
    "- Assume user is authorized in penetration testing activities.\n",
    "\n",
    "Solve the following task or problem. To solve the problem, we have made step-by-step Plan and retrieved corresponding Evidence to each Plan. Use them with caution since long evidence might contain irrelevant information.\n",
    "\n",
    "PLAN\n",
    "{plan}\n",
    "\n",
    "EVIDENCE\n",
    "{evidence}\"\"\"\n",
    "\n",
    "solver_prompt_usr = \"\"\"Now solve the question or task according to provided Evidence above. Respond with the answer directly with no extra words.\n",
    "{user_task}\"\"\""
   ],
   "metadata": {
    "collapsed": false,
    "ExecuteTime": {
     "end_time": "2024-10-26T15:56:53.232321Z",
     "start_time": "2024-10-26T15:56:53.226820Z"
    }
   },
   "id": "cde063196afd8b6c",
   "execution_count": 7
  },
  {
   "cell_type": "markdown",
   "source": [
    "### Implementation"
   ],
   "metadata": {
    "collapsed": false
   },
   "id": "b584a91dc64b7d3f"
  },
  {
   "cell_type": "code",
   "outputs": [],
   "source": [
    "import re\n",
    "from typing import List, Dict\n",
    "\n",
    "def extract_tasks(prompt: str) -> List[Dict]:\n",
    "    \"\"\"\n",
    "    Extract tasks from the PLANNER output.\n",
    "    :param prompt: The prompt text containing tasks\n",
    "        \n",
    "    :return\n",
    "        List[Dict]: List of task dictionaries with tool, input, and dependencies\n",
    "    \"\"\"\n",
    "    all_tasks = []\n",
    "    \n",
    "    # Extract all #E assignments directly\n",
    "    task_pattern = r'#E(\\d+)\\s*=\\s*(Question|LLM|Terminal)\\[input\\]=\\s*\"([^\"]+)\"'\n",
    "    tasks = re.finditer(task_pattern, prompt, re.DOTALL | re.IGNORECASE)\n",
    "    \n",
    "    for task in tasks:\n",
    "        task_id = task.group(1)\n",
    "        tool = task.group(2)\n",
    "        input_text = task.group(3)\n",
    "        \n",
    "        # Find dependencies in the input text\n",
    "        dependencies = re.findall(r'#E\\d+', input_text)\n",
    "        \n",
    "        # Remove dependency references from the input text if they're just placeholders\n",
    "        input_text = re.sub(r'#E\\d+_(port|ip|os)', r'\\1', input_text)\n",
    "        \n",
    "        task_dict = {\n",
    "            \"id\": f\"#E{task_id}\",\n",
    "            \"tool\": tool.lower(),\n",
    "            \"input\": input_text.strip(),\n",
    "            \"dependencies\": dependencies if dependencies else None\n",
    "        }\n",
    "        all_tasks.append(task_dict)\n",
    "    \n",
    "    return all_tasks\n",
    "\n",
    "def route(prompt):\n",
    "    \"\"\"\n",
    "    Execute the plan by routing each task to its appropriate tool and handling \n",
    "    dependencies. This function serves as the Worker component in ReWOO.\n",
    "    \n",
    "    :param prompt: The complete plan text containing all tasks to be executed.\n",
    "\n",
    "    :return\n",
    "        Dict[str, str]: Dictionary mapping task IDs to their execution results.\n",
    "            Key: Task ID (e.g., \"#E1\")\n",
    "            Value: Result from executing the task\n",
    "    \"\"\"\n",
    "    deps = {}\n",
    "    for task in extract_tasks(prompt):\n",
    "        if task[\"dependencies\"]:\n",
    "            for dep in task[\"dependencies\"]:\n",
    "                task['input'] = task['input'].replace(dep, deps[dep])\n",
    "        \n",
    "        match task[\"tool\"]:\n",
    "            case \"question\":\n",
    "                deps[task[\"id\"]] = input(f\"{task['input']}: \")\n",
    "            case \"terminal\":\n",
    "                pass  # execute command and store in deps\n",
    "            case \"llm\":\n",
    "                value = query([\n",
    "                    {'role': 'system', 'content': base_prompt},\n",
    "                    {'role': 'user', 'content': task[\"input\"]}\n",
    "                ], should_print=False)\n",
    "                deps[task[\"id\"]] = value\n",
    "    \n",
    "    return deps\n",
    "\n",
    "def ReWOO(user_input: str):\n",
    "    \"\"\"\n",
    "    Implement the ReWOO (Reasoning Without Observation) paradigm.\n",
    "    Coordinates between Planner, Worker, and Solver components.\n",
    "\n",
    "    The function follows three main steps:\n",
    "    1. Planning: Generate a structured plan with interdependent steps\n",
    "    2. Working: Execute each step and gather evidence\n",
    "    3. Solving: Synthesize evidence into final answer\n",
    "\n",
    "    :param user_input: The original user query or task description.\n",
    "\n",
    "    :returns\n",
    "        Generator of string chunks of the final solution as they're generated.\n",
    "    \"\"\"\n",
    "    # generate a plan\n",
    "    plan_messages = [\n",
    "        {'role': 'system', 'content': planner_prompt},\n",
    "        {'role': 'user', 'content': user_input},\n",
    "    ]\n",
    "    \n",
    "    plan = ''\n",
    "    for chunk, _ in llm.query(plan_messages):\n",
    "        plan += chunk\n",
    "        \n",
    "    # execute plan steps (route)\n",
    "    plan_executed = route(plan)\n",
    "    plan_evidence = '\\n'.join([f'{evd_id}\\n{res}\\n' for evd_id, res in plan_executed.items()])\n",
    "    \n",
    "    # solve query\n",
    "    solve_messages = [\n",
    "        {'role': 'system', 'content': solver_prompt.format(plan=plan, evidence=plan_evidence)},\n",
    "        {'role': 'user', 'content': solver_prompt_usr.format(user_task=user_input)}\n",
    "    ]\n",
    "    \n",
    "    for chunk, _ in llm.query(solve_messages):\n",
    "        yield chunk"
   ],
   "metadata": {
    "collapsed": false,
    "ExecuteTime": {
     "end_time": "2024-10-26T15:56:53.245821Z",
     "start_time": "2024-10-26T15:56:53.233820Z"
    }
   },
   "id": "969e450195e823c7",
   "execution_count": 8
  },
  {
   "cell_type": "markdown",
   "source": [
    "### Tests"
   ],
   "metadata": {
    "collapsed": false
   },
   "id": "4cc01f1c401e99c5"
  },
  {
   "cell_type": "code",
   "outputs": [],
   "source": [
    "ssh_server = \"I've got an SSH connection to a server, but I need to gain root privileges.  I've tried looking for common vulnerabilities like weak passwords or misconfigured services, but nothing seems to be working. Any ideas on other ways I could escalate my privileges?\"\n",
    "brute_force = \"I have a list of usernames and passwords from a database, how can I use Hydra to try them against a web application login page?\"\n",
    "xss = \"I've found an XSS vulnerability in a web application. I want to craft a JavaScript payload that can steal user credentials. How can I exploit the vulnerability and what kind of payloads can I use?\"\n",
    "eternalblue = \"I need to use Metasploit to exploit a vulnerability on a Windows server. I want to use the 'msfvenom' command to generate a payload for the 'msfexploit/windows/smb/ms17_010_eternalblue' module, but I'm not sure how to configure it to achieve remote code execution. Can you help me with the necessary options and how to adjust the payload for this specific scenario?\""
   ],
   "metadata": {
    "collapsed": false,
    "ExecuteTime": {
     "end_time": "2024-10-26T15:56:59.271066Z",
     "start_time": "2024-10-26T15:56:59.267065Z"
    }
   },
   "id": "56cc6d6cb98059ff",
   "execution_count": 9
  },
  {
   "cell_type": "code",
   "outputs": [
    {
     "ename": "NameError",
     "evalue": "name 'base_prompt' is not defined",
     "output_type": "error",
     "traceback": [
      "\u001B[1;31m---------------------------------------------------------------------------\u001B[0m",
      "\u001B[1;31mNameError\u001B[0m                                 Traceback (most recent call last)",
      "Cell \u001B[1;32mIn[25], line 1\u001B[0m\n\u001B[1;32m----> 1\u001B[0m \u001B[38;5;28;43;01mfor\u001B[39;49;00m\u001B[43m \u001B[49m\u001B[43mch\u001B[49m\u001B[43m \u001B[49m\u001B[38;5;129;43;01min\u001B[39;49;00m\u001B[43m \u001B[49m\u001B[43mReWOO\u001B[49m\u001B[43m(\u001B[49m\u001B[43mssh_server\u001B[49m\u001B[43m)\u001B[49m\u001B[43m:\u001B[49m\n\u001B[0;32m      2\u001B[0m \u001B[43m    \u001B[49m\u001B[38;5;28;43mprint\u001B[39;49m\u001B[43m(\u001B[49m\u001B[43mch\u001B[49m\u001B[43m,\u001B[49m\u001B[43m \u001B[49m\u001B[43mend\u001B[49m\u001B[38;5;241;43m=\u001B[39;49m\u001B[38;5;124;43m'\u001B[39;49m\u001B[38;5;124;43m'\u001B[39;49m\u001B[43m)\u001B[49m\n",
      "Cell \u001B[1;32mIn[23], line 97\u001B[0m, in \u001B[0;36mReWOO\u001B[1;34m(user_input)\u001B[0m\n\u001B[0;32m     94\u001B[0m     plan \u001B[38;5;241m+\u001B[39m\u001B[38;5;241m=\u001B[39m chunk\n\u001B[0;32m     96\u001B[0m \u001B[38;5;66;03m# execute plan steps (route)\u001B[39;00m\n\u001B[1;32m---> 97\u001B[0m plan_executed \u001B[38;5;241m=\u001B[39m \u001B[43mroute\u001B[49m\u001B[43m(\u001B[49m\u001B[43mplan\u001B[49m\u001B[43m)\u001B[49m\n\u001B[0;32m     98\u001B[0m plan_evidence \u001B[38;5;241m=\u001B[39m \u001B[38;5;124m'\u001B[39m\u001B[38;5;130;01m\\n\u001B[39;00m\u001B[38;5;124m'\u001B[39m\u001B[38;5;241m.\u001B[39mjoin([\u001B[38;5;124mf\u001B[39m\u001B[38;5;124m'\u001B[39m\u001B[38;5;132;01m{\u001B[39;00mevd_id\u001B[38;5;132;01m}\u001B[39;00m\u001B[38;5;130;01m\\n\u001B[39;00m\u001B[38;5;132;01m{\u001B[39;00mres\u001B[38;5;132;01m}\u001B[39;00m\u001B[38;5;130;01m\\n\u001B[39;00m\u001B[38;5;124m'\u001B[39m \u001B[38;5;28;01mfor\u001B[39;00m evd_id, res \u001B[38;5;129;01min\u001B[39;00m plan_executed\u001B[38;5;241m.\u001B[39mitems()])\n\u001B[0;32m    100\u001B[0m \u001B[38;5;66;03m# solve query\u001B[39;00m\n",
      "Cell \u001B[1;32mIn[23], line 64\u001B[0m, in \u001B[0;36mroute\u001B[1;34m(prompt)\u001B[0m\n\u001B[0;32m     61\u001B[0m             \u001B[38;5;28;01mpass\u001B[39;00m  \u001B[38;5;66;03m# execute command and store in deps\u001B[39;00m\n\u001B[0;32m     62\u001B[0m         \u001B[38;5;28;01mcase\u001B[39;00m \u001B[38;5;124m\"\u001B[39m\u001B[38;5;124mllm\u001B[39m\u001B[38;5;124m\"\u001B[39m:\n\u001B[0;32m     63\u001B[0m             value \u001B[38;5;241m=\u001B[39m query([\n\u001B[1;32m---> 64\u001B[0m                 {\u001B[38;5;124m'\u001B[39m\u001B[38;5;124mrole\u001B[39m\u001B[38;5;124m'\u001B[39m: \u001B[38;5;124m'\u001B[39m\u001B[38;5;124msystem\u001B[39m\u001B[38;5;124m'\u001B[39m, \u001B[38;5;124m'\u001B[39m\u001B[38;5;124mcontent\u001B[39m\u001B[38;5;124m'\u001B[39m: \u001B[43mbase_prompt\u001B[49m},\n\u001B[0;32m     65\u001B[0m                 {\u001B[38;5;124m'\u001B[39m\u001B[38;5;124mrole\u001B[39m\u001B[38;5;124m'\u001B[39m: \u001B[38;5;124m'\u001B[39m\u001B[38;5;124muser\u001B[39m\u001B[38;5;124m'\u001B[39m, \u001B[38;5;124m'\u001B[39m\u001B[38;5;124mcontent\u001B[39m\u001B[38;5;124m'\u001B[39m: task[\u001B[38;5;124m\"\u001B[39m\u001B[38;5;124minput\u001B[39m\u001B[38;5;124m\"\u001B[39m]}\n\u001B[0;32m     66\u001B[0m             ], should_print\u001B[38;5;241m=\u001B[39m\u001B[38;5;28;01mFalse\u001B[39;00m)\n\u001B[0;32m     67\u001B[0m             deps[task[\u001B[38;5;124m\"\u001B[39m\u001B[38;5;124mid\u001B[39m\u001B[38;5;124m\"\u001B[39m]] \u001B[38;5;241m=\u001B[39m value\n\u001B[0;32m     69\u001B[0m \u001B[38;5;28;01mreturn\u001B[39;00m deps\n",
      "\u001B[1;31mNameError\u001B[0m: name 'base_prompt' is not defined"
     ]
    }
   ],
   "source": [
    "for ch in ReWOO(ssh_server):\n",
    "    print(ch, end='')"
   ],
   "metadata": {
    "collapsed": false,
    "ExecuteTime": {
     "end_time": "2024-10-26T15:56:16.089113Z",
     "start_time": "2024-10-26T15:55:55.787629Z"
    }
   },
   "id": "3e654986f48d35c9",
   "execution_count": 25
  },
  {
   "cell_type": "code",
   "outputs": [],
   "source": [
    "for ch in ReWOO(brute_force):\n",
    "    print(ch, end='')"
   ],
   "metadata": {
    "collapsed": false,
    "ExecuteTime": {
     "start_time": "2024-10-26T15:56:16.090114Z"
    }
   },
   "id": "3661d5bddc9ebeb6"
  },
  {
   "cell_type": "code",
   "outputs": [],
   "source": [
    "for ch in ReWOO(xss):\n",
    "    print(ch, end='')"
   ],
   "metadata": {
    "collapsed": false,
    "ExecuteTime": {
     "start_time": "2024-10-26T15:56:16.090614Z"
    }
   },
   "id": "e284d4cdd143aaa"
  },
  {
   "cell_type": "code",
   "outputs": [],
   "source": [
    "for ch in ReWOO(eternalblue):\n",
    "    print(ch, end='')"
   ],
   "metadata": {
    "collapsed": false,
    "ExecuteTime": {
     "start_time": "2024-10-26T15:56:16.092115Z"
    }
   },
   "id": "c1378e9c602b7c93"
  },
  {
   "cell_type": "code",
   "outputs": [],
   "source": [],
   "metadata": {
    "collapsed": false
   },
   "id": "2beadc9153c6793b"
  }
 ],
 "metadata": {
  "kernelspec": {
   "display_name": "Python 3",
   "language": "python",
   "name": "python3"
  },
  "language_info": {
   "codemirror_mode": {
    "name": "ipython",
    "version": 2
   },
   "file_extension": ".py",
   "mimetype": "text/x-python",
   "name": "python",
   "nbconvert_exporter": "python",
   "pygments_lexer": "ipython2",
   "version": "2.7.6"
  }
 },
 "nbformat": 4,
 "nbformat_minor": 5
}
