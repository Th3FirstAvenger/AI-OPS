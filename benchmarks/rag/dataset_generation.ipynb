{
 "cells": [
  {
   "cell_type": "markdown",
   "source": [
    "# Table of Contents\n",
    "\n",
    "1. [RAG Evaluation](#RAG-Evaluation)\n",
    "    1. [Introduction](#Introduction)\n",
    "    2. [Dataset Format](#Dataset-Format)\n",
    "2. [Code](#Code)\n",
    "    1. [Prompts](#Prompts)\n",
    "    2. [Chunks](#Chunks)\n",
    "    3. [Generation](#Generation)"
   ],
   "metadata": {
    "collapsed": false
   },
   "id": "d5b1ef6ca0e50b2f"
  },
  {
   "cell_type": "markdown",
   "source": [
    "# RAG Evaluation\n",
    "\n",
    "## Introduction\n",
    "\n",
    "Our objective is to monitor and improve the RAG pipeline for **AI-OPS**, that requires context-specific data from *Cybersecurity* and *Penetration Testing* fields.\n",
    "The workflow is split in two steps:\n",
    "\n",
    "1. **Dataset Generation** \n",
    "\n",
    "2. **Evaluation** ([evaluation.py](./evaluation.py))\n",
    "\n",
    "## Dataset Format\n",
    "| Context                                                                                  | Question                   | Answer                                              | Ground Truth                                                              |\n",
    "|------------------------------------------------------------------------------------------|----------------------------|-----------------------------------------------------|---------------------------------------------------------------------------|\n",
    "| Used to generate Questions and Ground Truth.<br> Won't be present in the output dataset. | Mockup of a user question. | Answers will be generated during <br> evaluation ([evaluation.py](./evaluation.py)) | The \"real\" answer for the question.<br> Manual review should be performed |\n",
    "\n",
    "\n",
    "(...) given a list of chunks we will generate a question/multiple questions for each chunk; we will also generate a Ground Truth, even if it is not optimal (...)"
   ],
   "metadata": {
    "collapsed": false
   },
   "id": "587d6da5daef2b6f"
  },
  {
   "cell_type": "markdown",
   "source": [
    "## Code"
   ],
   "metadata": {
    "collapsed": false
   },
   "id": "b6749f01c3fe32d0"
  },
  {
   "cell_type": "code",
   "execution_count": 23,
   "id": "initial_id",
   "metadata": {
    "collapsed": true,
    "ExecuteTime": {
     "end_time": "2024-07-16T08:20:48.261772Z",
     "start_time": "2024-07-16T08:20:48.251272Z"
    }
   },
   "outputs": [
    {
     "data": {
      "text/plain": "True"
     },
     "execution_count": 23,
     "metadata": {},
     "output_type": "execute_result"
    }
   ],
   "source": [
    "import os\n",
    "import json\n",
    "import time\n",
    "import textwrap\n",
    "import random\n",
    "from json import JSONDecodeError\n",
    "\n",
    "import pandas as pd\n",
    "import google.generativeai as genai\n",
    "from google.generativeai.types import HarmCategory, HarmBlockThreshold\n",
    "from tqdm import tqdm\n",
    "from dotenv import load_dotenv\n",
    "\n",
    "load_dotenv()"
   ]
  },
  {
   "cell_type": "markdown",
   "source": [],
   "metadata": {
    "collapsed": false
   },
   "id": "a8b29b3a7492f2b7"
  },
  {
   "cell_type": "markdown",
   "source": [
    "### Prompts"
   ],
   "metadata": {
    "collapsed": false
   },
   "id": "e5bc040580534fef"
  },
  {
   "cell_type": "code",
   "outputs": [],
   "source": [
    "# Question Generation Prompts\n",
    "GEN_QUERY_PROMPT = textwrap.dedent(\"\"\"\n",
    "    As a question-generating assistant specializing in cybersecurity, your task is to generate simple, domain-specific questions based on the information given in a provided document, with a focus on Penetration Testing. \n",
    "    \n",
    "    You will be provided with the text of a document, surrounded by input tags. Please read the document, extract relevant information, and generate a simple, clear question based on the content. The question should be a maximum of two sentences long.\n",
    "    \n",
    "    Your response should be in the following JSON format:\n",
    "    {{\"QUESTION\": \"Your question here.\"}}\n",
    "    \n",
    "    <input>{document}</input>\n",
    "\"\"\")"
   ],
   "metadata": {
    "collapsed": false,
    "ExecuteTime": {
     "end_time": "2024-07-16T08:12:50.813210Z",
     "start_time": "2024-07-16T08:12:50.809213Z"
    }
   },
   "id": "909ffcf7d895f882",
   "execution_count": 2
  },
  {
   "cell_type": "code",
   "outputs": [],
   "source": [
    "# Question Answering (Ground Truth) Prompts\n",
    "GEN_ANSWER_PROMPT = textwrap.dedent(\"\"\"\n",
    "    As an answer-generating assistant specializing in cybersecurity, your task is to provide accurate answers for given questions in the context of Penetration Testing. You will be provided with a question and contextual information to generate a precise and relevant answer.\n",
    "    \n",
    "    Your answer should be in the following JSON format:\n",
    "    {{\"ANSWER\": \"Your answer here.\"}}\n",
    "    \n",
    "    Take a deep breath and work on this problem step by step.\n",
    "    \n",
    "    Query:\n",
    "    <input>{query}</input>\n",
    "    \n",
    "    Context:\n",
    "    <input>{context}</input>\n",
    "\"\"\")"
   ],
   "metadata": {
    "collapsed": false,
    "ExecuteTime": {
     "end_time": "2024-07-16T08:17:10.954805Z",
     "start_time": "2024-07-16T08:17:10.950804Z"
    }
   },
   "id": "b038c4b3396e7573",
   "execution_count": 19
  },
  {
   "cell_type": "markdown",
   "source": [],
   "metadata": {
    "collapsed": false
   },
   "id": "641aec28a0f66d32"
  },
  {
   "cell_type": "markdown",
   "source": [
    "### Chunks"
   ],
   "metadata": {
    "collapsed": false
   },
   "id": "bb5bbdac58609b24"
  },
  {
   "cell_type": "code",
   "outputs": [],
   "source": [
    "from src.agent.knowledge import chunk_str"
   ],
   "metadata": {
    "collapsed": false,
    "ExecuteTime": {
     "end_time": "2024-07-16T08:13:03.410324Z",
     "start_time": "2024-07-16T08:12:56.840434Z"
    }
   },
   "id": "28d4062e8f104809",
   "execution_count": 4
  },
  {
   "cell_type": "code",
   "outputs": [
    {
     "data": {
      "text/plain": "                                        title  \\\n0                       Broken Access Control   \n1                      Cryptographic Failures   \n2                                   Injection   \n3                             Insecure Design   \n4                   Security Misconfiguration   \n5          Vulnerable and Outdated Components   \n6  Identification and Authentication Failures   \n7        Software and Data Integrity Failures   \n8    Security Logging and Monitoring Failures   \n9          Server Side Request Forgery (SSRF)   \n\n                                             content  \n0  Moving up from the fifth position, 94% of appl...  \n1  Shifting up one position to #2, previously kno...  \n2  Injection slides down to the third position. 9...  \n3  A new category for 2021 focuses on risks relat...  \n4  Moving up from #6 in the previous edition, 90%...  \n5  It was #2 from the Top 10 community survey but...  \n6  Previously known as Broken Authentication, thi...  \n7  A new category for 2021 focuses on making assu...  \n8  Security logging and monitoring came from the ...  \n9  This category is added from the Top 10 communi...  ",
      "text/html": "<div>\n<style scoped>\n    .dataframe tbody tr th:only-of-type {\n        vertical-align: middle;\n    }\n\n    .dataframe tbody tr th {\n        vertical-align: top;\n    }\n\n    .dataframe thead th {\n        text-align: right;\n    }\n</style>\n<table border=\"1\" class=\"dataframe\">\n  <thead>\n    <tr style=\"text-align: right;\">\n      <th></th>\n      <th>title</th>\n      <th>content</th>\n    </tr>\n  </thead>\n  <tbody>\n    <tr>\n      <th>0</th>\n      <td>Broken Access Control</td>\n      <td>Moving up from the fifth position, 94% of appl...</td>\n    </tr>\n    <tr>\n      <th>1</th>\n      <td>Cryptographic Failures</td>\n      <td>Shifting up one position to #2, previously kno...</td>\n    </tr>\n    <tr>\n      <th>2</th>\n      <td>Injection</td>\n      <td>Injection slides down to the third position. 9...</td>\n    </tr>\n    <tr>\n      <th>3</th>\n      <td>Insecure Design</td>\n      <td>A new category for 2021 focuses on risks relat...</td>\n    </tr>\n    <tr>\n      <th>4</th>\n      <td>Security Misconfiguration</td>\n      <td>Moving up from #6 in the previous edition, 90%...</td>\n    </tr>\n    <tr>\n      <th>5</th>\n      <td>Vulnerable and Outdated Components</td>\n      <td>It was #2 from the Top 10 community survey but...</td>\n    </tr>\n    <tr>\n      <th>6</th>\n      <td>Identification and Authentication Failures</td>\n      <td>Previously known as Broken Authentication, thi...</td>\n    </tr>\n    <tr>\n      <th>7</th>\n      <td>Software and Data Integrity Failures</td>\n      <td>A new category for 2021 focuses on making assu...</td>\n    </tr>\n    <tr>\n      <th>8</th>\n      <td>Security Logging and Monitoring Failures</td>\n      <td>Security logging and monitoring came from the ...</td>\n    </tr>\n    <tr>\n      <th>9</th>\n      <td>Server Side Request Forgery (SSRF)</td>\n      <td>This category is added from the Top 10 communi...</td>\n    </tr>\n  </tbody>\n</table>\n</div>"
     },
     "execution_count": 5,
     "metadata": {},
     "output_type": "execute_result"
    }
   ],
   "source": [
    "owasp_df = pd.read_json('../../../data/json/owasp.json')\n",
    "owasp_df = owasp_df[['title', 'content']]\n",
    "owasp_df"
   ],
   "metadata": {
    "collapsed": false,
    "ExecuteTime": {
     "end_time": "2024-07-16T08:13:15.420193Z",
     "start_time": "2024-07-16T08:13:15.371693Z"
    }
   },
   "id": "46b9a52d84842463",
   "execution_count": 5
  },
  {
   "cell_type": "code",
   "outputs": [],
   "source": [
    "chunks = []\n",
    "for idx, item in owasp_df.iterrows():\n",
    "    chunks.extend(chunk_str(item.content))"
   ],
   "metadata": {
    "collapsed": false,
    "ExecuteTime": {
     "end_time": "2024-07-16T08:13:20.887814Z",
     "start_time": "2024-07-16T08:13:19.777309Z"
    }
   },
   "id": "c83fa403738f990a",
   "execution_count": 6
  },
  {
   "cell_type": "code",
   "outputs": [
    {
     "data": {
      "text/plain": "['Moving up from the fifth position, 94% of applications were tested for some form of broken access control with the average incidence rate of 3.81%, and has the most occurrences in the contributed dataset with over 318k.']"
     },
     "execution_count": 7,
     "metadata": {},
     "output_type": "execute_result"
    }
   ],
   "source": [
    "chunks[:1]"
   ],
   "metadata": {
    "collapsed": false,
    "ExecuteTime": {
     "end_time": "2024-07-16T08:13:23.687412Z",
     "start_time": "2024-07-16T08:13:23.682913Z"
    }
   },
   "id": "d7e3ba9fb757051e",
   "execution_count": 7
  },
  {
   "cell_type": "markdown",
   "source": [],
   "metadata": {
    "collapsed": false
   },
   "id": "227a0ec1a7077a62"
  },
  {
   "cell_type": "markdown",
   "source": [
    "### Generation"
   ],
   "metadata": {
    "collapsed": false
   },
   "id": "927ad4458c57ae68"
  },
  {
   "cell_type": "code",
   "outputs": [],
   "source": [
    "# Gemini Setup\n",
    "GEMINI_KEY = os.getenv('GEMINI_API_KEY')\n",
    "genai.configure(api_key=GEMINI_KEY)\n",
    "\n",
    "llm = genai.GenerativeModel(\n",
    "    'gemini-1.5-flash',\n",
    "    generation_config={\"response_mime_type\": \"application/json\"}\n",
    ")\n",
    "\n",
    "safety_settings = {\n",
    "    HarmCategory.HARM_CATEGORY_DANGEROUS_CONTENT: HarmBlockThreshold.BLOCK_NONE\n",
    "}"
   ],
   "metadata": {
    "collapsed": false,
    "ExecuteTime": {
     "end_time": "2024-07-16T08:13:29.764286Z",
     "start_time": "2024-07-16T08:13:29.759304Z"
    }
   },
   "id": "38da027da6290bdb",
   "execution_count": 8
  },
  {
   "cell_type": "code",
   "outputs": [],
   "source": [
    "def gen_data(_chunks):\n",
    "    # Generate Question\n",
    "    gen_query = llm.generate_content(\n",
    "        GEN_QUERY_PROMPT.format(document=_chunks), \n",
    "        safety_settings=safety_settings\n",
    "    )\n",
    "\n",
    "    try:\n",
    "        question = json.loads(gen_query.text)['QUESTION']\n",
    "    except JSONDecodeError:\n",
    "        question = gen_query.text\n",
    "\n",
    "    # Generate Ground Truth\n",
    "    gen_answer = llm.generate_content(\n",
    "        GEN_ANSWER_PROMPT.format(query=question, context=_chunks), \n",
    "        safety_settings=safety_settings\n",
    "    )\n",
    "    \n",
    "    try:    \n",
    "        answer = json.loads(gen_answer.text)['ANSWER']\n",
    "    except JSONDecodeError:\n",
    "        answer = gen_answer.text\n",
    "    \n",
    "    return question, answer"
   ],
   "metadata": {
    "collapsed": false,
    "ExecuteTime": {
     "end_time": "2024-07-16T08:27:41.501482Z",
     "start_time": "2024-07-16T08:27:41.496482Z"
    }
   },
   "id": "bcf432f3f144dcfc",
   "execution_count": 25
  },
  {
   "cell_type": "code",
   "outputs": [
    {
     "name": "stderr",
     "output_type": "stream",
     "text": [
      "Generating q&a: 100%|██████████| 50/50 [08:01<00:00,  9.63s/it]\n"
     ]
    }
   ],
   "source": [
    "dataset_size = 50\n",
    "data = []\n",
    "i = 3\n",
    "\n",
    "for _ in tqdm(range(dataset_size), total=dataset_size, desc='Generating q&a'):\n",
    "    # Get random chunks\n",
    "    start = random.choice(range(len(chunks) - 3))\n",
    "    n = random.choice([1, 2, 3])\n",
    "    chosen_chunks = random.choice(chunks[start:start+n])\n",
    "    \n",
    "    try:\n",
    "        q, a = gen_data(chosen_chunks)\n",
    "    except Exception:\n",
    "        time.sleep(60)\n",
    "        q, a = gen_data(chosen_chunks)\n",
    "    \n",
    "    i -= 1\n",
    "    if i == 0:\n",
    "        i = 3\n",
    "        time.sleep(20)\n",
    "        \n",
    "    data.append({\n",
    "        'context': chosen_chunks,\n",
    "        'question': q,\n",
    "        'ground_truth': a\n",
    "    })"
   ],
   "metadata": {
    "collapsed": false,
    "ExecuteTime": {
     "end_time": "2024-07-16T08:53:15.506166Z",
     "start_time": "2024-07-16T08:45:14.242465Z"
    }
   },
   "id": "5cbb2eca96cca287",
   "execution_count": 30
  },
  {
   "cell_type": "code",
   "outputs": [
    {
     "data": {
      "text/plain": "                                             question  \\\n0   What are the potential consequences of access ...   \n1   What vulnerabilities in the third-party cloud ...   \n2   If security settings for application servers, ...   \n3   What are the security logging and monitoring p...   \n4   While escaping special characters helps mitiga...   \n5   How can an attacker exploit the use of unverif...   \n6   What are the key steps involved in establishin...   \n7   What are some common types of injection attack...   \n8   What type of malicious action could a more dan...   \n9   If an application server configuration exposes...   \n10  If a penetration tester discovered that the se...   \n11  What is the potential risk of relying solely o...   \n12  What security measures should be implemented t...   \n13  If a penetration test or DAST scan does not tr...   \n14  What are the common vulnerabilities that can a...   \n15  What specific weaknesses in cryptography or it...   \n16  How can integrating security specialists early...   \n17  How can penetration testers assess the effecti...   \n18  If the application uses Java serialization to ...   \n19  What are the key differences between an insecu...   \n20  How can rate limiting API and controller acces...   \n21  What are the security risks associated with no...   \n22  How can threat modeling be used during refinem...   \n23  What are the security implications of using ha...   \n24  What are some examples of Common Weakness Enum...   \n25  What are the potential vulnerabilities if an u...   \n26  How can login failures, access control breache...   \n27  Why did security logging and monitoring move u...   \n28  What are some automated tools that attackers c...   \n29  What is a common vulnerability that enables at...   \n30  During user story development, how can penetra...   \n31  What tools can be used to continuously invento...   \n32  What are some common consequences of access co...   \n33  If penetration testing and DAST tools like OWA...   \n34  What are the potential vulnerabilities if an u...   \n35  If a web application fetches a remote resource...   \n36  What are the potential consequences if access ...   \n37  What are some of the key security consideratio...   \n38  How can attackers exploit vulnerabilities like...   \n39  What specific security risk is associated with...   \n40  When using adaptive and salted hashing functio...   \n41  How can an attacker bypass access control chec...   \n42  What are the security risks associated with a ...   \n43  What are the recommended hashing functions for...   \n44  What tools and resources are recommended for c...   \n45  Are deprecated cryptographic padding methods l...   \n46  What kind of security vulnerability is present...   \n47  What are the key elements of a secure developm...   \n48  If an attacker could force a user to browse to...   \n49  What type of vulnerability is demonstrated in ...   \n\n                                         ground_truth  \n0   Access control failures during a penetration t...  \n1   The provided context doesn't explicitly state ...  \n2   If security settings for application servers, ...  \n3   The OWASP Top 10 community survey highlighted ...  \n4   User-supplied table and column names are dange...  \n5   By manipulating the 'acct' parameter in the br...  \n6   A secure development lifecycle (SDL) is crucia...  \n7   Common injection attacks that target dynamic q...  \n8   More dangerous attacks could modify or delete ...  \n9   Detailed error messages, especially stack trac...  \n10  A penetration tester discovering insecure secu...  \n11  Relying solely on password complexity and rota...  \n12  To protect sensitive data like passwords and f...  \n13  The application's inability to detect and resp...  \n14  When applications fail to properly validate or...  \n15  The absence or misuse of cryptography presents...  \n16  Integrating security specialists early in the ...  \n17  Penetration testers can assess the effectivene...  \n18  Yes, if the application uses Java serializatio...  \n19  An **insecure design** refers to fundamental f...  \n20  Rate limiting API and controller access helps ...  \n21  Leaving default accounts unchanged in an admin...  \n22  During refinement sessions, threat modeling ca...  \n23  Using hard-coded passwords, weak cryptographic...  \n24  The 'Broken Authentication' category in the Co...  \n25  If an unauthenticated user can access an admin...  \n26  To effectively log login failures, access cont...  \n27  The rise in the OWASP Top 10 rankings for secu...  \n28  Attackers can use automated tools like Shodan ...  \n29  A common vulnerability that enables attackers ...  \n30  During user story development, penetration tes...  \n31  Tools like **OWASP Dependency Check, retire.js...  \n32  Common consequences of access control failures...  \n33  To improve the application's ability to detect...  \n34  If an unauthenticated user can access pages in...  \n35  This scenario indicates a **Server-Side Reques...  \n36  Failure of access control mechanisms during a ...  \n37  Building and deploying software within a secur...  \n38  Attackers can exploit SQL injection vulnerabil...  \n39  Returning detailed error messages, including s...  \n40  The work factor or delay factor in adaptive an...  \n41  Attackers can bypass access control checks in ...  \n42  Exposing session identifiers in the URL and fa...  \n43  Recommended hashing functions for storing pass...  \n44  Tools like **versions**, **OWASP Dependency Ch...  \n45  The provided context suggests that the applica...  \n46  This is a vulnerability called **authenticatio...  \n47  A secure development lifecycle (SDL) encompass...  \n48  Yes, if an attacker could force a user to brow...  \n49  The vulnerability demonstrated in both attack ...  ",
      "text/html": "<div>\n<style scoped>\n    .dataframe tbody tr th:only-of-type {\n        vertical-align: middle;\n    }\n\n    .dataframe tbody tr th {\n        vertical-align: top;\n    }\n\n    .dataframe thead th {\n        text-align: right;\n    }\n</style>\n<table border=\"1\" class=\"dataframe\">\n  <thead>\n    <tr style=\"text-align: right;\">\n      <th></th>\n      <th>question</th>\n      <th>ground_truth</th>\n    </tr>\n  </thead>\n  <tbody>\n    <tr>\n      <th>0</th>\n      <td>What are the potential consequences of access ...</td>\n      <td>Access control failures during a penetration t...</td>\n    </tr>\n    <tr>\n      <th>1</th>\n      <td>What vulnerabilities in the third-party cloud ...</td>\n      <td>The provided context doesn't explicitly state ...</td>\n    </tr>\n    <tr>\n      <th>2</th>\n      <td>If security settings for application servers, ...</td>\n      <td>If security settings for application servers, ...</td>\n    </tr>\n    <tr>\n      <th>3</th>\n      <td>What are the security logging and monitoring p...</td>\n      <td>The OWASP Top 10 community survey highlighted ...</td>\n    </tr>\n    <tr>\n      <th>4</th>\n      <td>While escaping special characters helps mitiga...</td>\n      <td>User-supplied table and column names are dange...</td>\n    </tr>\n    <tr>\n      <th>5</th>\n      <td>How can an attacker exploit the use of unverif...</td>\n      <td>By manipulating the 'acct' parameter in the br...</td>\n    </tr>\n    <tr>\n      <th>6</th>\n      <td>What are the key steps involved in establishin...</td>\n      <td>A secure development lifecycle (SDL) is crucia...</td>\n    </tr>\n    <tr>\n      <th>7</th>\n      <td>What are some common types of injection attack...</td>\n      <td>Common injection attacks that target dynamic q...</td>\n    </tr>\n    <tr>\n      <th>8</th>\n      <td>What type of malicious action could a more dan...</td>\n      <td>More dangerous attacks could modify or delete ...</td>\n    </tr>\n    <tr>\n      <th>9</th>\n      <td>If an application server configuration exposes...</td>\n      <td>Detailed error messages, especially stack trac...</td>\n    </tr>\n    <tr>\n      <th>10</th>\n      <td>If a penetration tester discovered that the se...</td>\n      <td>A penetration tester discovering insecure secu...</td>\n    </tr>\n    <tr>\n      <th>11</th>\n      <td>What is the potential risk of relying solely o...</td>\n      <td>Relying solely on password complexity and rota...</td>\n    </tr>\n    <tr>\n      <th>12</th>\n      <td>What security measures should be implemented t...</td>\n      <td>To protect sensitive data like passwords and f...</td>\n    </tr>\n    <tr>\n      <th>13</th>\n      <td>If a penetration test or DAST scan does not tr...</td>\n      <td>The application's inability to detect and resp...</td>\n    </tr>\n    <tr>\n      <th>14</th>\n      <td>What are the common vulnerabilities that can a...</td>\n      <td>When applications fail to properly validate or...</td>\n    </tr>\n    <tr>\n      <th>15</th>\n      <td>What specific weaknesses in cryptography or it...</td>\n      <td>The absence or misuse of cryptography presents...</td>\n    </tr>\n    <tr>\n      <th>16</th>\n      <td>How can integrating security specialists early...</td>\n      <td>Integrating security specialists early in the ...</td>\n    </tr>\n    <tr>\n      <th>17</th>\n      <td>How can penetration testers assess the effecti...</td>\n      <td>Penetration testers can assess the effectivene...</td>\n    </tr>\n    <tr>\n      <th>18</th>\n      <td>If the application uses Java serialization to ...</td>\n      <td>Yes, if the application uses Java serializatio...</td>\n    </tr>\n    <tr>\n      <th>19</th>\n      <td>What are the key differences between an insecu...</td>\n      <td>An **insecure design** refers to fundamental f...</td>\n    </tr>\n    <tr>\n      <th>20</th>\n      <td>How can rate limiting API and controller acces...</td>\n      <td>Rate limiting API and controller access helps ...</td>\n    </tr>\n    <tr>\n      <th>21</th>\n      <td>What are the security risks associated with no...</td>\n      <td>Leaving default accounts unchanged in an admin...</td>\n    </tr>\n    <tr>\n      <th>22</th>\n      <td>How can threat modeling be used during refinem...</td>\n      <td>During refinement sessions, threat modeling ca...</td>\n    </tr>\n    <tr>\n      <th>23</th>\n      <td>What are the security implications of using ha...</td>\n      <td>Using hard-coded passwords, weak cryptographic...</td>\n    </tr>\n    <tr>\n      <th>24</th>\n      <td>What are some examples of Common Weakness Enum...</td>\n      <td>The 'Broken Authentication' category in the Co...</td>\n    </tr>\n    <tr>\n      <th>25</th>\n      <td>What are the potential vulnerabilities if an u...</td>\n      <td>If an unauthenticated user can access an admin...</td>\n    </tr>\n    <tr>\n      <th>26</th>\n      <td>How can login failures, access control breache...</td>\n      <td>To effectively log login failures, access cont...</td>\n    </tr>\n    <tr>\n      <th>27</th>\n      <td>Why did security logging and monitoring move u...</td>\n      <td>The rise in the OWASP Top 10 rankings for secu...</td>\n    </tr>\n    <tr>\n      <th>28</th>\n      <td>What are some automated tools that attackers c...</td>\n      <td>Attackers can use automated tools like Shodan ...</td>\n    </tr>\n    <tr>\n      <th>29</th>\n      <td>What is a common vulnerability that enables at...</td>\n      <td>A common vulnerability that enables attackers ...</td>\n    </tr>\n    <tr>\n      <th>30</th>\n      <td>During user story development, how can penetra...</td>\n      <td>During user story development, penetration tes...</td>\n    </tr>\n    <tr>\n      <th>31</th>\n      <td>What tools can be used to continuously invento...</td>\n      <td>Tools like **OWASP Dependency Check, retire.js...</td>\n    </tr>\n    <tr>\n      <th>32</th>\n      <td>What are some common consequences of access co...</td>\n      <td>Common consequences of access control failures...</td>\n    </tr>\n    <tr>\n      <th>33</th>\n      <td>If penetration testing and DAST tools like OWA...</td>\n      <td>To improve the application's ability to detect...</td>\n    </tr>\n    <tr>\n      <th>34</th>\n      <td>What are the potential vulnerabilities if an u...</td>\n      <td>If an unauthenticated user can access pages in...</td>\n    </tr>\n    <tr>\n      <th>35</th>\n      <td>If a web application fetches a remote resource...</td>\n      <td>This scenario indicates a **Server-Side Reques...</td>\n    </tr>\n    <tr>\n      <th>36</th>\n      <td>What are the potential consequences if access ...</td>\n      <td>Failure of access control mechanisms during a ...</td>\n    </tr>\n    <tr>\n      <th>37</th>\n      <td>What are some of the key security consideratio...</td>\n      <td>Building and deploying software within a secur...</td>\n    </tr>\n    <tr>\n      <th>38</th>\n      <td>How can attackers exploit vulnerabilities like...</td>\n      <td>Attackers can exploit SQL injection vulnerabil...</td>\n    </tr>\n    <tr>\n      <th>39</th>\n      <td>What specific security risk is associated with...</td>\n      <td>Returning detailed error messages, including s...</td>\n    </tr>\n    <tr>\n      <th>40</th>\n      <td>When using adaptive and salted hashing functio...</td>\n      <td>The work factor or delay factor in adaptive an...</td>\n    </tr>\n    <tr>\n      <th>41</th>\n      <td>How can an attacker bypass access control chec...</td>\n      <td>Attackers can bypass access control checks in ...</td>\n    </tr>\n    <tr>\n      <th>42</th>\n      <td>What are the security risks associated with a ...</td>\n      <td>Exposing session identifiers in the URL and fa...</td>\n    </tr>\n    <tr>\n      <th>43</th>\n      <td>What are the recommended hashing functions for...</td>\n      <td>Recommended hashing functions for storing pass...</td>\n    </tr>\n    <tr>\n      <th>44</th>\n      <td>What tools and resources are recommended for c...</td>\n      <td>Tools like **versions**, **OWASP Dependency Ch...</td>\n    </tr>\n    <tr>\n      <th>45</th>\n      <td>Are deprecated cryptographic padding methods l...</td>\n      <td>The provided context suggests that the applica...</td>\n    </tr>\n    <tr>\n      <th>46</th>\n      <td>What kind of security vulnerability is present...</td>\n      <td>This is a vulnerability called **authenticatio...</td>\n    </tr>\n    <tr>\n      <th>47</th>\n      <td>What are the key elements of a secure developm...</td>\n      <td>A secure development lifecycle (SDL) encompass...</td>\n    </tr>\n    <tr>\n      <th>48</th>\n      <td>If an attacker could force a user to browse to...</td>\n      <td>Yes, if an attacker could force a user to brow...</td>\n    </tr>\n    <tr>\n      <th>49</th>\n      <td>What type of vulnerability is demonstrated in ...</td>\n      <td>The vulnerability demonstrated in both attack ...</td>\n    </tr>\n  </tbody>\n</table>\n</div>"
     },
     "execution_count": 31,
     "metadata": {},
     "output_type": "execute_result"
    }
   ],
   "source": [
    "output = pd.DataFrame(data)[['question', 'ground_truth']]\n",
    "output"
   ],
   "metadata": {
    "collapsed": false,
    "ExecuteTime": {
     "end_time": "2024-07-16T08:57:43.571796Z",
     "start_time": "2024-07-16T08:57:43.558295Z"
    }
   },
   "id": "510b48619d5f48f8",
   "execution_count": 31
  },
  {
   "cell_type": "code",
   "outputs": [],
   "source": [
    "output.to_json('../../../data/rag_eval/owasp_50.json')"
   ],
   "metadata": {
    "collapsed": false,
    "ExecuteTime": {
     "end_time": "2024-07-16T08:59:13.568484Z",
     "start_time": "2024-07-16T08:59:13.562983Z"
    }
   },
   "id": "ce5a1b24736c23bc",
   "execution_count": 32
  },
  {
   "cell_type": "code",
   "outputs": [],
   "source": [],
   "metadata": {
    "collapsed": false
   },
   "id": "898626f26c334d5c"
  }
 ],
 "metadata": {
  "kernelspec": {
   "display_name": "Python 3",
   "language": "python",
   "name": "python3"
  },
  "language_info": {
   "codemirror_mode": {
    "name": "ipython",
    "version": 2
   },
   "file_extension": ".py",
   "mimetype": "text/x-python",
   "name": "python",
   "nbconvert_exporter": "python",
   "pygments_lexer": "ipython2",
   "version": "2.7.6"
  }
 },
 "nbformat": 4,
 "nbformat_minor": 5
}
