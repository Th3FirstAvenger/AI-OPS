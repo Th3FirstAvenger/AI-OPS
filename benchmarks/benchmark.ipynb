{
 "cells": [
  {
   "cell_type": "code",
   "execution_count": 71,
   "id": "initial_id",
   "metadata": {
    "collapsed": true,
    "ExecuteTime": {
     "end_time": "2024-11-22T12:19:10.962182Z",
     "start_time": "2024-11-22T12:19:10.958182Z"
    }
   },
   "outputs": [],
   "source": [
    "import os\n",
    "import sys\n",
    "import json\n",
    "from enum import StrEnum\n",
    "from dataclasses import dataclass\n",
    "\n",
    "import pandas as pd\n",
    "import matplotlib.pyplot as plt\n",
    "import seaborn as sns\n",
    "import google.generativeai as genai\n",
    "from tqdm import tqdm\n",
    "from dotenv import load_dotenv\n",
    "from google.generativeai.types import HarmCategory, HarmBlockThreshold\n",
    "\n",
    "from src.agent import Agent, build_agent"
   ]
  },
  {
   "cell_type": "code",
   "outputs": [],
   "source": [
    "class Category(StrEnum):\n",
    "    WEB = 'Web'\n",
    "\n",
    "class Activity(StrEnum):\n",
    "    CODE_ANALYSIS = 'code_analysis'\n",
    "\n",
    "class Vulnerability(StrEnum):\n",
    "    REFLECTED_XSS = 'reflected_xss'\n",
    "\n",
    "class Difficulty(StrEnum):\n",
    "    EASY = 'easy'\n",
    "    MEDIUM = 'medium'\n",
    "    HARD = 'hard'\n",
    "\n",
    "@dataclass\n",
    "class TestInput:\n",
    "    prompt: str\n",
    "    resources: list[str]\n",
    "    \n",
    "    def format(self) -> str:\n",
    "        resources = ''\n",
    "        for resource in self.resources:\n",
    "            with open(resource, 'r', encoding='utf-8') as fp:\n",
    "                content = fp.read()\n",
    "            resources += f'\\n# {resource}\\n{content}\\n'\n",
    "        return self.prompt + '\\n' + resources\n",
    "\n",
    "@dataclass\n",
    "class Choice:\n",
    "    id: int\n",
    "    answer: str\n",
    "    correct: bool\n",
    "    \n",
    "    def __str__(self):\n",
    "        return f'{self.id} - {self.answer}'\n",
    "\n",
    "@dataclass\n",
    "class TestCase:\n",
    "    id: str\n",
    "    category: Category\n",
    "    activity: Activity\n",
    "    difficulty: Difficulty\n",
    "    vulnerability: Vulnerability\n",
    "    input: TestInput\n",
    "    choices: list[Choice]\n",
    "    \n",
    "    @property\n",
    "    def prompt(self) -> str:\n",
    "        return self.input.format() + f'\\nSelect one of the following choices:\\n{self.choices_string}' \n",
    "    \n",
    "    @property\n",
    "    def choices_string(self) -> str:\n",
    "        return '\\n'.join([str(choice) for choice in self.choices])\n",
    "    \n",
    "    @property\n",
    "    def correct_choice(self) -> Choice:\n",
    "         return list(filter(lambda choice: choice.correct, self.choices))[0]\n",
    "    \n",
    "    def to_dict(self) -> dict:\n",
    "        return {\n",
    "            'id': self.id,\n",
    "            'category': self.category.value,\n",
    "            'activity': self.activity.value,\n",
    "            'difficulty': self.difficulty.value,\n",
    "            'vulnerability': self.vulnerability.value,\n",
    "            'input': self.input.format(),\n",
    "            'correct_choice': self.correct_choice.id\n",
    "        }\n",
    "    \n",
    "    def __str__(self):\n",
    "        return f'[{self.id}]: {self.vulnerability.value} - {self.activity.value} - {self.difficulty.value}'\n",
    "    \n",
    "@dataclass\n",
    "class TestResult:\n",
    "    model: str\n",
    "    architecture: str\n",
    "    response: str | None\n",
    "    choice: int | None\n",
    "    \n",
    "    def to_dict(self) -> dict:\n",
    "        return {\n",
    "            'model': self.model,\n",
    "            'architecture': self.architecture,\n",
    "            'response': self.response,\n",
    "            'choice': self.choice\n",
    "        }"
   ],
   "metadata": {
    "collapsed": false,
    "ExecuteTime": {
     "end_time": "2024-11-22T12:19:10.974181Z",
     "start_time": "2024-11-22T12:19:10.963682Z"
    }
   },
   "id": "b73d68f6a39286f0",
   "execution_count": 72
  },
  {
   "cell_type": "code",
   "outputs": [],
   "source": [
    "class Evaluator:\n",
    "    PROMPT = \"\"\"You are evaluating AI-OPS, an assistant for penetration testing. Given AI-OPS response to a multiple-choice test case your task is to determine which choice the response corresponds to and output the result in JSON format.\n",
    " \n",
    "RULES:\n",
    "- If the AI-OPS response matches one of the choices, return the corresponding choice number as {{'choice': integer}}.\n",
    "- If the AI-OPS response does not match any of the choices, return {{'choice': -1}}.\n",
    "\n",
    "INPUT FORMAT:\n",
    "Response: [Response content]\n",
    "Choices:\n",
    "1 - [Choice A content]\n",
    "2 - [Choice B content]\n",
    "3 - [Choice C content]\n",
    "...\n",
    "\n",
    "Now, process the following data and provide the result in JSON format.\n",
    "\n",
    "----------------------------------------------------------------\n",
    "\n",
    "Response: {response}\n",
    "Choices:\n",
    "{choices}\n",
    "\"\"\"\n",
    "    def __init__(self, api_key):\n",
    "        genai.configure(api_key=api_key)\n",
    "        self.llm_evaluator = genai.GenerativeModel('gemini-1.5-flash', generation_config={\"response_mime_type\": \"application/json\"})\n",
    "        self.safety_settings = {\n",
    "            HarmCategory.HARM_CATEGORY_DANGEROUS_CONTENT: HarmBlockThreshold.BLOCK_NONE\n",
    "        }\n",
    "        \n",
    "    def evaluate(self, response: str, choices: str) -> dict:\n",
    "        prompt = Evaluator.PROMPT.format(response=response, choices=choices)\n",
    "        choice_str = self.llm_evaluator.generate_content(prompt, safety_settings=self.safety_settings).text\n",
    "        try:\n",
    "            choice = json.loads(choice_str)\n",
    "            return choice\n",
    "        except json.JSONDecodeError:\n",
    "            print(f'[!] Error in Evaluator.evaluate:\\n{choice_str}')\n",
    "            return {}"
   ],
   "metadata": {
    "collapsed": false,
    "ExecuteTime": {
     "end_time": "2024-11-22T12:19:10.981182Z",
     "start_time": "2024-11-22T12:19:10.975683Z"
    }
   },
   "id": "50668a4d72dc9e15",
   "execution_count": 73
  },
  {
   "cell_type": "code",
   "outputs": [],
   "source": [
    "class Benchmark:\n",
    "    \n",
    "    def __init__(\n",
    "        self, \n",
    "        agent: Agent,\n",
    "        evaluator: Evaluator,\n",
    "        tests: list[TestCase]\n",
    "    ):\n",
    "        self.agent = agent\n",
    "        self.evaluator = evaluator\n",
    "        self.tests = tests\n",
    "        self.__results: dict[str, TestResult] = {\n",
    "            test.id: TestResult(\n",
    "                model=agent.agent.model,\n",
    "                architecture=agent.agent.architecture_name,\n",
    "                response=None,\n",
    "                choice=None\n",
    "            ) \n",
    "            for test in self.tests\n",
    "        }\n",
    "        \n",
    "    def run(self):\n",
    "        for i, test in tqdm(enumerate(self.tests), total=len(self.tests)):\n",
    "            response = ''\n",
    "            for chunk in self.agent.query(i, test.prompt):\n",
    "                response += chunk\n",
    "                \n",
    "            choice = self.evaluator.evaluate(response, test.choices_string)\n",
    "            self.__results[test.id].response = response\n",
    "            self.__results[test.id].choice = choice['choice']\n",
    "    \n",
    "    @property\n",
    "    def result(self) -> pd.DataFrame:\n",
    "        results = []\n",
    "        for test in self.tests:\n",
    "            test_dict = test.to_dict()\n",
    "            result_dict = self.__results[test.id].to_dict()\n",
    "            results.append({**test_dict, **result_dict})\n",
    "        return pd.DataFrame(results)"
   ],
   "metadata": {
    "collapsed": false,
    "ExecuteTime": {
     "end_time": "2024-11-22T12:19:10.988181Z",
     "start_time": "2024-11-22T12:19:10.982681Z"
    }
   },
   "id": "938ea8c5bff6c913",
   "execution_count": 74
  },
  {
   "cell_type": "code",
   "outputs": [],
   "source": [
    "def load_tests(path: str) -> list[TestCase]:\n",
    "    try:\n",
    "        with open(path, 'r', encoding='utf-8') as fp:\n",
    "            data = json.load(fp)\n",
    "    except FileNotFoundError as err:\n",
    "        print(str(err))\n",
    "        \n",
    "    test_cases = []\n",
    "    try:\n",
    "        for test in data:\n",
    "            test_cases.append(\n",
    "                TestCase(\n",
    "                    id=test['id'],\n",
    "                    category=Category(test['category']),\n",
    "                    activity=Activity(test['activity']),\n",
    "                    difficulty=Difficulty(test['difficulty']),\n",
    "                    vulnerability=Vulnerability(test['vulnerability']),\n",
    "                    input=TestInput(test['input']['prompt'], test['input']['resources']),\n",
    "                    choices=[\n",
    "                        Choice(choice['id'], choice['answer'], choice['correct']) \n",
    "                        for choice in test['choices']\n",
    "                    ]\n",
    "                )\n",
    "            )\n",
    "    except ValueError as err:\n",
    "        print(str(err))\n",
    "    return test_cases"
   ],
   "metadata": {
    "collapsed": false,
    "ExecuteTime": {
     "end_time": "2024-11-22T12:19:10.999682Z",
     "start_time": "2024-11-22T12:19:10.995181Z"
    }
   },
   "id": "b2298de86e12a7d5",
   "execution_count": 75
  },
  {
   "cell_type": "code",
   "outputs": [
    {
     "name": "stderr",
     "output_type": "stream",
     "text": [
      "100%|██████████| 1/1 [00:19<00:00, 19.34s/it]\n"
     ]
    },
    {
     "data": {
      "text/plain": "       id category       activity difficulty  vulnerability  \\\n0  Web_01      Web  code_analysis     medium  reflected_xss   \n\n                                               input  correct_choice  \\\n0  Analyze the following code. If it contains an ...               3   \n\n                           model          architecture  \\\n0  mistral:7b-instruct-v0.3-q8_0  default_architecture   \n\n                                            response  choice  \n0  3 - #clk=abc123' onerror=alert(1)//\\n\\nThe cod...       3  ",
      "text/html": "<div>\n<style scoped>\n    .dataframe tbody tr th:only-of-type {\n        vertical-align: middle;\n    }\n\n    .dataframe tbody tr th {\n        vertical-align: top;\n    }\n\n    .dataframe thead th {\n        text-align: right;\n    }\n</style>\n<table border=\"1\" class=\"dataframe\">\n  <thead>\n    <tr style=\"text-align: right;\">\n      <th></th>\n      <th>id</th>\n      <th>category</th>\n      <th>activity</th>\n      <th>difficulty</th>\n      <th>vulnerability</th>\n      <th>input</th>\n      <th>correct_choice</th>\n      <th>model</th>\n      <th>architecture</th>\n      <th>response</th>\n      <th>choice</th>\n    </tr>\n  </thead>\n  <tbody>\n    <tr>\n      <th>0</th>\n      <td>Web_01</td>\n      <td>Web</td>\n      <td>code_analysis</td>\n      <td>medium</td>\n      <td>reflected_xss</td>\n      <td>Analyze the following code. If it contains an ...</td>\n      <td>3</td>\n      <td>mistral:7b-instruct-v0.3-q8_0</td>\n      <td>default_architecture</td>\n      <td>3 - #clk=abc123' onerror=alert(1)//\\n\\nThe cod...</td>\n      <td>3</td>\n    </tr>\n  </tbody>\n</table>\n</div>"
     },
     "execution_count": 81,
     "metadata": {},
     "output_type": "execute_result"
    }
   ],
   "source": [
    "import logging\n",
    "try:\n",
    "    load_dotenv()\n",
    "    GEM_KEY = os.environ.get('GEMINI_API_KEY')\n",
    "    assert GEM_KEY is not None\n",
    "except AssertionError:\n",
    "    print(f'[!] Missing Gemini API keys in .env')\n",
    "    sys.exit(1)\n",
    "\n",
    "\n",
    "logging.disable(logging.CRITICAL)\n",
    "\n",
    "benchmark = Benchmark(\n",
    "    agent=build_agent(\n",
    "        model='mistral:7b-instruct-v0.3-q8_0',\n",
    "        inference_endpoint='https://16a1-34-125-153-110.ngrok-free.app/'\n",
    "    ),\n",
    "    evaluator=Evaluator(api_key=GEM_KEY),\n",
    "    tests=load_tests('benchmark.json')\n",
    ")\n",
    "benchmark.run()\n",
    "\n",
    "df = benchmark.result\n",
    "df.head()"
   ],
   "metadata": {
    "collapsed": false,
    "ExecuteTime": {
     "end_time": "2024-11-22T12:21:50.724828Z",
     "start_time": "2024-11-22T12:21:31.055016Z"
    }
   },
   "id": "223308ced1809bf3",
   "execution_count": 81
  },
  {
   "cell_type": "code",
   "outputs": [
    {
     "name": "stdout",
     "output_type": "stream",
     "text": [
      "3 - #clk=abc123' onerror=alert(1)//\n",
      "\n",
      "The code you provided is vulnerable to Cross-Site Scripting (XSS) attacks, specifically Reflected XSS. The function `cfpParam` extracts parameters from the URL, but it does not properly sanitize them before use. In this case, the variable `cfpClick` is extracted from the URL and used in the `pr_redir` variable, which is then used as a source for an embedded script.\n",
      "\n",
      "An attacker can exploit this vulnerability by crafting a malicious URL with a payload that gets executed when loaded by a victim's browser. In the provided examples, choice 3 demonstrates an XSS payload using the 'onerror' event to execute the alert(1) function when the script tag fails to load for some reason.\n",
      "\n",
      "However, it is important to note that real-world XSS attacks should be more sophisticated and could lead to stealing user data or taking control of the user's session. Always ensure to sanitize all user inputs to protect against XSS attacks.\n"
     ]
    }
   ],
   "source": [
    "print(df.loc[0, 'response'])"
   ],
   "metadata": {
    "collapsed": false,
    "ExecuteTime": {
     "end_time": "2024-11-22T12:21:50.729328Z",
     "start_time": "2024-11-22T12:21:50.726328Z"
    }
   },
   "id": "2ef37ba0bf78721f",
   "execution_count": 82
  },
  {
   "cell_type": "code",
   "outputs": [
    {
     "data": {
      "text/plain": "<Figure size 640x480 with 1 Axes>",
      "image/png": "[encoded data removed]"
     },
     "metadata": {},
     "output_type": "display_data"
    }
   ],
   "source": [
    "# Barplot for difficulty vs accuracy\n",
    "df['accuracy'] = df['correct_choice'] == df['choice']\n",
    "sns.barplot(data=df, x='difficulty', y='accuracy')\n",
    "plt.title('Accuracy vs Difficulty')\n",
    "plt.show()"
   ],
   "metadata": {
    "collapsed": false,
    "ExecuteTime": {
     "end_time": "2024-11-22T12:21:50.857828Z",
     "start_time": "2024-11-22T12:21:50.730328Z"
    }
   },
   "id": "626f56719c677d44",
   "execution_count": 83
  },
  {
   "cell_type": "code",
   "outputs": [],
   "source": [],
   "metadata": {
    "collapsed": false,
    "ExecuteTime": {
     "end_time": "2024-11-22T12:19:30.623257Z",
     "start_time": "2024-11-22T12:19:30.620756Z"
    }
   },
   "id": "d89c58eb0d16ed58",
   "execution_count": 80
  }
 ],
 "metadata": {
  "kernelspec": {
   "display_name": "Python 3",
   "language": "python",
   "name": "python3"
  },
  "language_info": {
   "codemirror_mode": {
    "name": "ipython",
    "version": 2
   },
   "file_extension": ".py",
   "mimetype": "text/x-python",
   "name": "python",
   "nbconvert_exporter": "python",
   "pygments_lexer": "ipython2",
   "version": "2.7.6"
  }
 },
 "nbformat": 4,
 "nbformat_minor": 5
}
